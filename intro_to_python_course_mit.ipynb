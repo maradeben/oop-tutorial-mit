{
  "cells": [
    {
      "cell_type": "markdown",
      "metadata": {
        "id": "view-in-github",
        "colab_type": "text"
      },
      "source": [
        "<a href=\"https://colab.research.google.com/github/maradeben/oop-tutorial-mit/blob/main/intro_to_python_course_mit.ipynb\" target=\"_parent\"><img src=\"https://colab.research.google.com/assets/colab-badge.svg\" alt=\"Open In Colab\"/></a>"
      ]
    },
    {
      "cell_type": "markdown",
      "source": [
        "![welcome](https://imgs.search.brave.com/WsgHGrKZNjfyegblUrCaB4gxfnv_lDWaCwlR0PzYh2Y/rs:fit:500:0:1:0/g:ce/aHR0cHM6Ly9pLnBp/bmltZy5jb20vb3Jp/Z2luYWxzLzM4LzRi/LzRmLzM4NGI0Zjk2/YzFhMjExMDMxNzM3/MWEzNTI0NTgxMGNl/LmpwZw)\n",
        "\n",
        "\n",
        "# 🚀 Welcome to Python for Healthcare Professionals!\n",
        "\n",
        "![welcome](https://imgs.search.brave.com/6AUCT3KxHZPH8bXlACEFDmV5kIHmrWvE5uBt4H4GtSA/rs:fit:500:0:1:0/g:ce/aHR0cHM6Ly90NC5m/dGNkbi5uZXQvanBn/LzEyLzQ3LzU1LzU5/LzM2MF9GXzEyNDc1/NTU5MDNfMTN6dW4y/Nmt5d0dsR1Q2SmFY/UVUwTHB1NFJGRDhu/YksuanBn)\n",
        "\n",
        "\n",
        "Hello and welcome to the **Healthcare AI & Data Literacy Challenge**!\n",
        "\n",
        "You are already an expert in your medical or healthcare field. This challenge isn't about replacing that expertise; it's about adding a powerful new tool to your skillset: **data literacy**.\n",
        "\n",
        "## Contents\n",
        "1. [**Introduction and How to Use**](#introduction)\n",
        "2. [**Part 1: The Building Blocks**](#part-1)\n",
        "3. [**Part 2: Making Your Code Smarter & More Powerful**](#part-2)\n",
        "4. [**Part 3: From One Patient to a Thousand with NumPy**](#part-3)\n",
        "5. [**Optional Module: Python in Your Specialty**](#optional)\n",
        "6. [**You've Completed the Foundation! What's Next?**](#congrats)\n",
        "\n",
        "\n",
        "<a id='introduction'></a>\n",
        "### What is this Notebook?\n",
        "\n",
        "This Colab notebook is your interactive companion to the DataCamp \"Introduction to Python\" course. While DataCamp teaches the fundamental concepts, this guide will **translate every lesson into a practical, real-world healthcare scenario**. Our goal is to bridge the gap between abstract code and the clinical data you work with every day.\n",
        "\n",
        "**How to use it:**\n",
        "1.  Watch the video lessons on DataCamp.\n",
        "2.  Follow along with the corresponding sections in this notebook.\n",
        "3.  Click the \"play\" button on the code cells to run the examples yourself and see the concepts in action!\n",
        "\n",
        "Let's begin your journey into the future of data-driven medicine. 🩺\n",
        "\n",
        "-----\n",
        "\n",
        "\n",
        "\n",
        "# 🐍 Python for Healthcare: From Clinical Data to Code\n",
        "**A Practical Companion for the Healthcare AI & Data Literacy Challenge**\n",
        "\n",
        "\n",
        "## You Already \"Speak\" Data. Let's Learn Its Language.\n",
        "\n",
        "As a healthcare professional, you work with data every single day:\n",
        "* Patient Vitals (Blood Pressure, Heart Rate, Temp)\n",
        "* Lab Results (Blood Glucose, CBC, Lipid Panels)\n",
        "* Medication Dosages & Schedules\n",
        "* Patient Demographics & Histories\n",
        "\n",
        "**The Problem:** This data often lives in static charts, disconnected files, or complex EMRs.\n",
        "\n",
        "**The Solution:** Python is a tool that lets you interact with, analyze, and find patterns in this data at scale. This notebook connects every Python concept you learn on DataCamp to a real-world healthcare scenario. 🩺\n",
        "\n",
        "-----\n",
        "\n",
        "<a id='part-1'></a>\n",
        "\n",
        "## Part 1: The Building Blocks\n",
        "### `Variables`: Storing a Single Piece of Patient Information\n",
        "\n",
        "Think of a variable as a single field on a patient's chart. Each variable holds one piece of information and has a specific data type.\n",
        "\n",
        "* `patient_id = \"HN-00451\"` is a **string** (text).\n",
        "* `patient_age = 42` is an **integer** (a whole number).\n",
        "* `patient_temp_celsius = 37.5` is a **float** (a number with a decimal).\n",
        "* `is_on_medication = True` is a **boolean** (True or False).\n",
        "\n",
        "Let's see this in action.\n",
        "\n",
        "\n",
        "-----"
      ],
      "metadata": {
        "id": "hUPXPJnhW3D0"
      }
    },
    {
      "cell_type": "code",
      "source": [
        "# A single patient's data\n",
        "patient_id = \"HN-00451\"\n",
        "patient_age = 42\n",
        "patient_temp_celsius = 37.5\n",
        "is_on_medication = True\n",
        "\n",
        "# We can print the values\n",
        "print(\"Patient ID:\", patient_id)\n",
        "print(\"Patient Age:\", patient_age)\n",
        "\n",
        "# And we can check their types\n",
        "print(\"Type of patient_temp_celsius:\", type(patient_temp_celsius))\n",
        "print(\"Type of is_on_medication:\", type(is_on_medication))"
      ],
      "outputs": [
        {
          "output_type": "stream",
          "name": "stdout",
          "text": [
            "Patient ID: HN-00451\n",
            "Patient Age: 42\n",
            "Type of patient_temp_celsius: <class 'float'>\n",
            "Type of is_on_medication: <class 'bool'>\n"
          ]
        }
      ],
      "execution_count": null,
      "metadata": {
        "colab": {
          "base_uri": "https://localhost:8080/"
        },
        "id": "R6wqqSbfW3D3",
        "outputId": "5bd15c3f-b752-4417-a4b4-ebeafee7a436"
      }
    },
    {
      "cell_type": "markdown",
      "source": [
        "-----\n",
        "### `Lists`: A Collection of Clinical Readings\n",
        "\n",
        "A single variable isn't enough for continuous monitoring. A **list** is perfect for storing a sequence of measurements for a single patient, like hourly vitals or a list of their current medications.\n",
        "\n",
        "-----"
      ],
      "metadata": {
        "id": "hDmXAFHdW3D4"
      }
    },
    {
      "cell_type": "code",
      "source": [
        "# A patient's heart rate (bpm) recorded over 5 minutes\n",
        "heart_rates = [78, 81, 80, 77, 84]\n",
        "\n",
        "# A patient's current medications\n",
        "medications = [\"Lisinopril\", \"Metformin\", \"Atorvastatin\"]\n",
        "\n",
        "print(\"Hourly Heart Rates:\", heart_rates)\n",
        "print(\"Current Medications:\", medications)"
      ],
      "outputs": [
        {
          "output_type": "stream",
          "name": "stdout",
          "text": [
            "Hourly Heart Rates: [78, 81, 80, 77, 84]\n",
            "Current Medications: ['Lisinopril', 'Metformin', 'Atorvastatin']\n"
          ]
        }
      ],
      "execution_count": null,
      "metadata": {
        "id": "YHDdL7BeW3D5",
        "colab": {
          "base_uri": "https://localhost:8080/"
        },
        "outputId": "5672ca31-3462-4912-c825-07beed34781c"
      }
    },
    {
      "cell_type": "markdown",
      "source": [
        "-----\n",
        "### Subsetting & Changing Lists: Accessing and Updating Clinical Data\n",
        "\n",
        "We can easily interact with our lists to get specific information or update them as a patient's condition changes.\n",
        "\n",
        "* **Accessing an item:** \"What was the patient's first recorded heart rate?\" (Remember: Python starts counting from 0!)\n",
        "* **Getting a range (slicing):** \"Show me the heart rates from the 2nd to the 4th minute.\"\n",
        "* **Changing an item:** \"The 2nd reading was entered incorrectly. Let's update it.\"\n",
        "* **Adding an item:** \"The doctor just prescribed a new medication.\"\n",
        "-----"
      ],
      "metadata": {
        "id": "vpo_vXI-W3D5"
      }
    },
    {
      "cell_type": "code",
      "source": [
        "# Original heart rates list\n",
        "heart_rates = [78, 81, 80, 77, 84]\n",
        "medications = [\"Lisinopril\", \"Metformin\", \"Atorvastatin\"]\n",
        "\n",
        "# Get the first heart rate reading (at index 0)\n",
        "first_reading = heart_rates[0]\n",
        "print(\"First Reading:\", first_reading)\n",
        "\n",
        "# Get readings from the 2nd to the 4th minute (index 1 up to 4)\n",
        "middle_readings = heart_rates[1:4]\n",
        "print(\"Middle Readings:\", middle_readings)\n",
        "\n",
        "# The second reading (at index 1) was wrong, update it to 82\n",
        "heart_rates[1] = 82\n",
        "print(\"Corrected Heart Rates:\", heart_rates)\n",
        "\n",
        "# Add a new medication to the end of the list\n",
        "medications.append(\"Aspirin\")\n",
        "print(\"Updated Medications:\", medications)"
      ],
      "outputs": [
        {
          "output_type": "stream",
          "name": "stdout",
          "text": [
            "First Reading: 78\n",
            "Middle Readings: [81, 80, 77]\n",
            "Corrected Heart Rates: [78, 82, 80, 77, 84]\n",
            "Updated Medications: ['Lisinopril', 'Metformin', 'Atorvastatin', 'Aspirin']\n"
          ]
        }
      ],
      "execution_count": null,
      "metadata": {
        "id": "5-I_R9KJW3D5",
        "colab": {
          "base_uri": "https://localhost:8080/"
        },
        "outputId": "00c190d9-e3bb-44eb-b7eb-a82591761db6"
      }
    },
    {
      "cell_type": "markdown",
      "source": [
        "\n",
        "---\n",
        "<a id='part-2'></a>\n",
        "## Part 2: Making Your Code Smarter & More Powerful\n",
        "\n",
        "### `Functions`: Turning a Clinical Protocol into Reusable Code\n",
        "\n",
        "You follow protocols every day. A function is just a clinical protocol written in code. For example, instead of manually calculating a patient's BMI every time, you can write a `calculate_bmi` function.\n",
        "\n",
        "* **Protocol:** Calculating Body Mass Index (BMI).\n",
        "* **Inputs:** Weight (kg), Height (m).\n",
        "* **Process:** weight / (height²)\n",
        "* **Output:** BMI value.\n",
        "\n",
        "-----\n",
        "\n",
        "### **Cell 10: Code**"
      ],
      "metadata": {
        "id": "yVoTi7oZW3D5"
      }
    },
    {
      "cell_type": "code",
      "source": [
        "# Define the BMI \"protocol\" as a function\n",
        "def calculate_bmi(weight_kg, height_m):\n",
        "  \"\"\"Calculates BMI from weight in kg and height in meters.\"\"\"\n",
        "  bmi = weight_kg / (height_m ** 2)\n",
        "  return round(bmi, 1) # Round to one decimal place\n",
        "\n",
        "# Use the \"protocol\" for two different patients\n",
        "patient1_bmi = calculate_bmi(75, 1.8)\n",
        "patient2_bmi = calculate_bmi(62, 1.65)\n",
        "\n",
        "print(\"Patient 1 BMI:\", patient1_bmi)\n",
        "print(\"Patient 2 BMI:\", patient2_bmi)"
      ],
      "outputs": [
        {
          "output_type": "stream",
          "name": "stdout",
          "text": [
            "Patient 1 BMI: 23.1\n",
            "Patient 2 BMI: 22.8\n"
          ]
        }
      ],
      "execution_count": null,
      "metadata": {
        "id": "p2kyAfeNW3D6",
        "colab": {
          "base_uri": "https://localhost:8080/"
        },
        "outputId": "227c6e7e-5b9a-4229-f13c-bf5c614a7ffd"
      }
    },
    {
      "cell_type": "markdown",
      "source": [
        "-----\n",
        "<a id='part-3'></a>\n",
        "##Part 3: From One Patient to a Thousand with NumPy\n",
        "\n",
        "### `NumPy`: Your New Superpower for Research 📈\n",
        "\n",
        "Python lists are great for one patient. But what about a clinical\n",
        "trial with 500 patients? For that, we need **NumPy**.\n",
        "\n",
        "NumPy gives us a new data structure called an **array**.\n",
        "It's like a list on steroids: it's faster and allows you to perform\n",
        " mathematical operations on the entire collection of values at once.\n",
        "\n",
        "This is the big shift from individual patient care to **population-level data analysis**.\n",
        "\n",
        "-----"
      ],
      "metadata": {
        "id": "3mYCqr6IW3D6"
      }
    },
    {
      "cell_type": "code",
      "source": [
        "import numpy as np\n",
        "\n",
        "# Patient data in regular Python lists\n",
        "heights_list = [1.75, 1.80, 1.62, 1.91]\n",
        "weights_list = [78.5, 85.1, 66.7, 92.2]\n",
        "\n",
        "# Now, convert them to NumPy arrays\n",
        "np_heights = np.array(heights_list)\n",
        "np_weights = np.array(weights_list)\n",
        "\n",
        "# Calculate BMI for ALL patients at once! This is not possible with lists.\n",
        "bmi_array = np_weights / (np_heights ** 2)\n",
        "\n",
        "print(\"NumPy Heights Array:\", np_heights)\n",
        "print(\"NumPy Weights Array:\", np_weights)\n",
        "print(\"Resulting BMI Array:\", np.round(bmi_array, 1)) # Rounding for readability"
      ],
      "outputs": [
        {
          "output_type": "stream",
          "name": "stdout",
          "text": [
            "NumPy Heights Array: [1.75 1.8  1.62 1.91]\n",
            "NumPy Weights Array: [78.5 85.1 66.7 92.2]\n",
            "Resulting BMI Array: [25.6 26.3 25.4 25.3]\n"
          ]
        }
      ],
      "execution_count": null,
      "metadata": {
        "id": "yQar23bjW3D6",
        "colab": {
          "base_uri": "https://localhost:8080/"
        },
        "outputId": "15143bac-9d90-4388-e692-61d8d2c8c743"
      }
    },
    {
      "cell_type": "markdown",
      "source": [
        "-----\n",
        "### 2D NumPy Arrays: The Digital Patient Cohort\n",
        "\n",
        "A 2D NumPy array is exactly like a spreadsheet or a table of clinical trial data.\n",
        "\n",
        "* **Rows** = Individual patients\n",
        "* **Columns** = Different measurements (e.g., Age, Systolic BP, Glucose Level)\n",
        "-----"
      ],
      "metadata": {
        "id": "_kDbzKDRW3D6"
      }
    },
    {
      "cell_type": "code",
      "source": [
        "# Data for 4 patients: [Age, Systolic BP, Blood Glucose]\n",
        "clinical_data = np.array([\n",
        "    [45, 130, 5.6],\n",
        "    [52, 142, 6.1],\n",
        "    [38, 125, 5.1],\n",
        "    [45, 155, 7.3]\n",
        "])\n",
        "\n",
        "print(\"Clinical Dataset (2D Array):\")\n",
        "print(clinical_data)\n",
        "\n",
        "# We can check the dimensions (rows, columns) with .shape\n",
        "print(\"\\nShape of the data (patients, measurements):\", clinical_data.shape)"
      ],
      "outputs": [
        {
          "output_type": "stream",
          "name": "stdout",
          "text": [
            "Clinical Dataset (2D Array):\n",
            "[[ 45.  130.    5.6]\n",
            " [ 52.  142.    6.1]\n",
            " [ 38.  125.    5.1]\n",
            " [ 45.  155.    7.3]]\n",
            "\n",
            "Shape of the data (patients, measurements): (4, 3)\n"
          ]
        }
      ],
      "execution_count": null,
      "metadata": {
        "id": "_0--YKTCW3D7",
        "colab": {
          "base_uri": "https://localhost:8080/"
        },
        "outputId": "26d45016-7982-44d6-e40c-d9d6f015a586"
      }
    },
    {
      "cell_type": "markdown",
      "source": [
        "-----\n",
        "### NumPy Statistics: From Data to Clinical Insights\n",
        "\n",
        "Now you can answer critical research and public health questions from your data! Using NumPy's statistical functions, you can analyze an entire column (a specific measurement for all patients) with one line of code."
      ],
      "metadata": {
        "id": "AymAJpyUW3D7"
      }
    },
    {
      "cell_type": "code",
      "source": [
        "# Our data again for reference\n",
        "# Columns are: [Age, Systolic BP, Blood Glucose]\n",
        "clinical_data = np.array([\n",
        "    [45, 130, 5.6],\n",
        "    [52, 142, 6.1],\n",
        "    [38, 125, 5.1],\n",
        "    [45, 155, 7.3]\n",
        "])\n",
        "\n",
        "# \"What is the average blood pressure in our patient group?\"\n",
        "# We select all rows (:) and the second column (1)\n",
        "avg_bp = np.mean(clinical_data[:, 1])\n",
        "print(\"Average Systolic BP:\", round(avg_bp, 1))\n",
        "\n",
        "# \"What is the median age of our participants?\"\n",
        "# We select all rows (:) and the first column (0)\n",
        "median_age = np.median(clinical_data[:, 0])\n",
        "print(\"Median Age:\", median_age)\n",
        "\n",
        "# \"Find all patients with blood pressure over 140.\"\n",
        "# This creates a True/False condition to filter the data\n",
        "high_bp_mask = clinical_data[:, 1] > 140\n",
        "high_bp_patients = clinical_data[high_bp_mask]\n",
        "print(\"\\nPatients with BP > 140:\")\n",
        "print(high_bp_patients)"
      ],
      "outputs": [
        {
          "output_type": "stream",
          "name": "stdout",
          "text": [
            "Average Systolic BP: 138.0\n",
            "Median Age: 45.0\n",
            "\n",
            "Patients with BP > 140:\n",
            "[[ 52.  142.    6.1]\n",
            " [ 45.  155.    7.3]]\n"
          ]
        }
      ],
      "execution_count": null,
      "metadata": {
        "id": "fY11-xFZW3D7",
        "colab": {
          "base_uri": "https://localhost:8080/"
        },
        "outputId": "b54ca74c-7f00-4a7c-8f27-f8adc232ba3a"
      }
    },
    {
      "cell_type": "markdown",
      "source": [
        "## ✅ Congratulations on Finishing the Core Concepts!\n",
        "\n",
        "You've successfully translated the fundamental Python concepts into the language of healthcare!\n",
        "\n",
        "* **Variables** -> A single data point on a chart.\n",
        "* **Lists** -> Vitals for one patient.\n",
        "* **NumPy Arrays** -> An entire patient cohort.\n",
        "* **Functions & Stats** -> Asking clinical questions and getting answers.\n",
        "\n",
        "The next section is an **optional module** with more examples tailored to a wide range of healthcare specialties.\n",
        "\n",
        "<a id='optional'></a>\n",
        "# 🔬 Optional Module: Python in Your Specialty\n",
        "\n",
        "The concepts we've covered are the universal building blocks of data analysis in any field. This optional section provides specific examples of how these tools apply to your unique area of healthcare. Find your specialty below to see how you can start thinking about your daily data in a new way.\n",
        "\n",
        "-----\n",
        "## Variables in Your Specialty\n",
        "\n",
        "A **variable** holds a single piece of data. Think of it as one entry in a logbook, one measurement, or one specific label.\n",
        "\n",
        "* **Nursing:** `patient_fall_risk_score = 12`\n",
        "* **General Medicine:** `chief_complaint = \"Persistent Cough\"`\n",
        "* **Surgery:** `estimated_blood_loss_ml = 250`\n",
        "* **Obstetrics and Gynecology:** `gestational_age_weeks = 38.5`\n",
        "* **Pediatrics:** `vaccine_name = \"MMR\"`\n",
        "* **Anesthesiology:** `sevoflurane_concentration_percent = 2.0`\n",
        "* **Pharmacy:** `drug_half_life_hours = 8.5`\n",
        "* **Medical Laboratory Science:** `hemoglobin_g_dL = 14.2`\n",
        "* **Dentistry:** `caries_risk_level = \"High\"`\n",
        "* **Radiology/Medical Imaging:** `ct_slice_thickness_mm = 2.5`\n",
        "* **Oncology:** `tumor_size_cm = 4.1`\n",
        "* **Cardiology:** `ejection_fraction_percent = 55`\n",
        "* **Public Health:** `case_fatality_rate = 0.02`\n",
        "* **Community Health:** `household_food_security_status = \"Secure\"`\n",
        "* **Mental Health:** `gad7_anxiety_score = 15`\n",
        "* **Biomedical Engineering:** `pacemaker_battery_voltage = 2.8`\n",
        "* **Physiotherapy:** `knee_flexion_rom_degrees = 110`\n",
        "* **Nutrition and Dietetics:** `daily_calorie_target = 1800`\n",
        "* **Radiography:** `xray_exposure_mAs = 15`\n",
        "* **Physiology:** `maximal_oxygen_uptake_vo2max = 45.5`\n",
        "* **Optometry:** `intraocular_pressure_mmHg = 18`\n",
        "* **Environmental Health Science:** `lead_in_water_ppb = 3.2`\n",
        "* **Health Information Management:** `patient_record_retention_years = 7`\n",
        "* **Occupational Therapy:** `grip_strength_kg = 25`\n",
        "* **Medical Physics:** `linear_accelerator_dose_rate_cGy_min = 600`\n",
        "-----\n"
      ],
      "metadata": {
        "id": "Dv5xXLDAW3D7"
      }
    },
    {
      "cell_type": "code",
      "source": [
        "# Let's declare and print a few specialty-specific variables\n",
        "\n",
        "# Physiotherapy Example\n",
        "knee_flexion_rom_degrees = 110\n",
        "print(\"Physiotherapy - Knee Range of Motion:\", knee_flexion_rom_degrees, \"degrees\")\n",
        "\n",
        "# Pharmacy Example\n",
        "drug_half_life_hours = 8.5\n",
        "print(\"Pharmacy - Drug Half-Life:\", drug_half_life_hours, \"hours\")\n",
        "\n",
        "# Medical Laboratory Science Example\n",
        "hemoglobin_g_dL = 14.2\n",
        "print(\"Lab Science - Hemoglobin Level:\", hemoglobin_g_dL, \"g/dL\")"
      ],
      "outputs": [
        {
          "output_type": "stream",
          "name": "stdout",
          "text": [
            "Physiotherapy - Knee Range of Motion: 110 degrees\n",
            "Pharmacy - Drug Half-Life: 8.5 hours\n",
            "Lab Science - Hemoglobin Level: 14.2 g/dL\n"
          ]
        }
      ],
      "execution_count": null,
      "metadata": {
        "id": "XoARVxifW3D7",
        "colab": {
          "base_uri": "https://localhost:8080/"
        },
        "outputId": "2ceb557d-a084-4d4d-fefe-c24483ed04b3"
      }
    },
    {
      "cell_type": "markdown",
      "source": [
        "-----\n",
        "\n",
        "## Lists in Your Specialty\n",
        "\n",
        "A **list** stores an ordered sequence of items. It's perfect for tracking things over time, listing steps in a protocol, or grouping related items.\n",
        "\n",
        "* **Nursing:** `wound_care_steps = ['cleanse', 'apply_ointment', 'dress_wound']`\n",
        "* **General Medicine:** `differential_diagnoses = [\"Bronchitis\", \"Pneumonia\", \"Asthma\"]`\n",
        "* **Surgery:** `surgical_instrument_count = [25, 25]` (pre and post-op)\n",
        "* **Obstetrics and Gynecology:** `apgar_scores = [8, 9]` (at 1 and 5 minutes)\n",
        "* **Pediatrics:** `monthly_weight_kg = [3.5, 4.2, 5.1, 5.8]`\n",
        "* **Anesthesiology:** `pre_op_checklist = [\"Consent Signed\", \"NPO Status Confirmed\", \"Airway Assessed\"]`\n",
        "* **Pharmacy:** `patient_allergies = [\"Penicillin\", \"Sulfa\"]`\n",
        "* **Medical Laboratory Science:** `quality_control_results = [98.5, 101.2, 99.8]`\n",
        "* **Dentistry:** `perio_chart_pockets_mm = [3, 2, 3, 4, 3, 2]`\n",
        "* **Radiology/Medical Imaging:** `imaging_series_list = [\"Axial T1\", \"Sagittal T2\", \"Coronal FLAIR\"]`\n",
        "* **Oncology:** `chemo_cycle_dates = [\"2025-09-20\", \"2025-10-11\", \"2025-11-01\"]`\n",
        "* **Cardiology:** `ecg_lead_placements = [\"V1\", \"V2\", \"V3\", \"V4\", \"V5\", \"V6\"]`\n",
        "* **Public Health:** `outbreak_contact_trace_ids = [\"P001\", \"P007\", \"P012\"]`\n",
        "* **Mental Health:** `patient_reported_moods = [\"Anxious\", \"Calm\", \"Anxious\", \"Tired\"]`\n",
        "* **Biomedical Engineering:** `device_calibration_timestamps = [1663333200, 1663419600]`\n",
        "* **Physiotherapy:** `rehab_exercise_plan = [\"Quad Sets\", \"Heel Slides\", \"Leg Raises\"]`\n",
        "* **Nutrition and Dietetics:** `sample_meal_plan_foods = [\"Oatmeal\", \"Chicken Breast\", \"Broccoli\", \"Quinoa\"]`\n",
        "* **Health Information Management:** `required_document_scans = [\"Consent Form\", \"Insurance Card\", \"Referral Letter\"]`\n",
        "* **Occupational Therapy:** `activities_of_daily_living = [\"Dressing\", \"Bathing\", \"Eating\"]`\n",
        "\n",
        "-----"
      ],
      "metadata": {
        "id": "ls_tFys6W3D7"
      }
    },
    {
      "cell_type": "code",
      "source": [
        "# Example of creating and modifying lists for different specialties\n",
        "\n",
        "# Pediatrics: Tracking a baby's weight over 4 months\n",
        "monthly_weight_kg = [3.5, 4.2, 5.1, 5.8]\n",
        "print(\"Pediatrics - Initial weights:\", monthly_weight_kg)\n",
        "\n",
        "# A new measurement is taken for the 5th month\n",
        "monthly_weight_kg.append(6.4)\n",
        "print(\"Pediatrics - Updated weights:\", monthly_weight_kg)\n",
        "\n",
        "\n",
        "# Oncology: A list of chemotherapy drugs for a patient's regimen\n",
        "chemo_regimen = [\"Cisplatin\", \"Etoposide\"]\n",
        "print(\"\\nOncology - Original regimen:\", chemo_regimen)\n",
        "\n",
        "# The first drug (at index 0) is switched to Carboplatin\n",
        "chemo_regimen[0] = \"Carboplatin\"\n",
        "print(\"Oncology - Revised regimen:\", chemo_regimen)"
      ],
      "outputs": [
        {
          "output_type": "stream",
          "name": "stdout",
          "text": [
            "Pediatrics - Initial weights: [3.5, 4.2, 5.1, 5.8]\n",
            "Pediatrics - Updated weights: [3.5, 4.2, 5.1, 5.8, 6.4]\n",
            "\n",
            "Oncology - Original regimen: ['Cisplatin', 'Etoposide']\n",
            "Oncology - Revised regimen: ['Carboplatin', 'Etoposide']\n"
          ]
        }
      ],
      "execution_count": null,
      "metadata": {
        "id": "5vzL3oLVW3D7",
        "colab": {
          "base_uri": "https://localhost:8080/"
        },
        "outputId": "b8f70411-d58f-49c0-9e9c-7bf524ad8ea1"
      }
    },
    {
      "cell_type": "markdown",
      "source": [
        "\n",
        "---\n",
        "## Functions in Your Specialty\n",
        "\n",
        "A **function** is a reusable block of code that performs a specific task—just like a clinical protocol or calculation you do frequently.\n",
        "\n",
        "* **Nursing:** A function to calculate a patient's Glasgow Coma Scale (GCS) score based on eye, verbal, and motor responses.\n",
        "* **General Medicine:** A function to calculate a CHA₂DS₂-VASc score for stroke risk.\n",
        "* **Anesthesiology:** A function to determine the correct dosage of Propofol based on patient weight and age.\n",
        "* **Pharmacy:** A function to check for potential drug-drug interactions from a list of medications.\n",
        "* **Medical Laboratory Science:** A function to flag lab results that are outside the normal range.\n",
        "* **Radiology/Medical Imaging:** A function to calculate the Standardized Uptake Value (SUV) in PET scans.\n",
        "* **Oncology:** A function to calculate Body Surface Area (BSA) for chemotherapy dosing.\n",
        "* **Cardiology:** A function to calculate a patient's 10-year cardiovascular disease risk score.\n",
        "* **Nutrition and Dietetics:** A function to calculate Basal Metabolic Rate (BMR) using the Mifflin-St Jeor equation.\n",
        "* **Medical Physics:** A function to calculate the radioactive decay of a specific isotope over time.\n"
      ],
      "metadata": {
        "id": "7ez53XhlW3D8"
      }
    },
    {
      "cell_type": "code",
      "source": [
        "# Example: A function for Nutrition and Dietetics to calculate BMR\n",
        "\n",
        "def calculate_bmr_mifflin(weight_kg, height_cm, age_years, is_male):\n",
        "  \"\"\"\n",
        "  Calculates Basal Metabolic Rate using the Mifflin-St Jeor equation.\n",
        "  \"\"\"\n",
        "  if is_male:\n",
        "    bmr = (10 * weight_kg) + (6.25 * height_cm) - (5 * age_years) + 5\n",
        "  else:\n",
        "    bmr = (10 * weight_kg) + (6.25 * height_cm) - (5 * age_years) - 161\n",
        "\n",
        "  return int(bmr) # Return as a whole number\n",
        "\n",
        "# Use the function for a 35-year-old male, 80kg, 180cm\n",
        "male_patient_bmr = calculate_bmr_mifflin(80, 180, 35, True)\n",
        "print(\"Nutrition - BMR for male patient:\", male_patient_bmr, \"kcal/day\")\n",
        "\n",
        "# Use the function for a 42-year-old female, 65kg, 165cm\n",
        "female_patient_bmr = calculate_bmr_mifflin(65, 165, 42, False)\n",
        "print(\"Nutrition - BMR for female patient:\", female_patient_bmr, \"kcal/day\")"
      ],
      "outputs": [
        {
          "output_type": "stream",
          "name": "stdout",
          "text": [
            "Nutrition - BMR for male patient: 1755 kcal/day\n",
            "Nutrition - BMR for female patient: 1310 kcal/day\n"
          ]
        }
      ],
      "execution_count": null,
      "metadata": {
        "id": "ed2Kg0HxW3D8",
        "colab": {
          "base_uri": "https://localhost:8080/"
        },
        "outputId": "d992f64a-cdcb-4920-d1b8-0475424d43ad"
      }
    },
    {
      "cell_type": "markdown",
      "source": [
        "-----\n",
        "\n",
        "## NumPy Arrays in Your Specialty\n",
        "\n",
        "A **NumPy array** is how you handle data for a whole group of patients, an entire clinic's records, or a research cohort. It's the digital equivalent of a spreadsheet or a research dataset.\n",
        "\n",
        "* **Public Health:** A 2D array where rows are individuals and columns are `[Age, Vaccination_Status (0 or 1), Zip_Code]`.\n",
        "* **Cardiology:** A 2D array of clinical trial data: `[Patient_ID, LDL_Cholesterol_Before, LDL_Cholesterol_After]`.\n",
        "* **Health Information Management:** A 2D array of hospital data: `[Department_ID, Average_Patient_Wait_Time_Mins, Patient_Satisfaction_Score]`.\n",
        "* **Oncology:** A 3D array representing tumor response, where dimensions are `[Patient, Timepoint, Tumor_Volume]`.\n",
        "* **Radiology/Medical Imaging:** A 2D array of image quality scores from different MRI machines.\n",
        "* **Physiotherapy:** A 2D array tracking patient progress: `[Patient_ID, Session_Number, Pain_Score_1_to_10]`.\n",
        "* **Environmental Health Science:** A 2D array from a community health study: `[Household_ID, Air_Quality_Index, Asthma_Incidence]`.\n",
        "* **Biomedical Engineering:** An array of sensor readings from a wearable device over time.\n",
        "----"
      ],
      "metadata": {
        "id": "yG0sTBClW3D8"
      }
    },
    {
      "cell_type": "code",
      "source": [
        "import numpy as np\n",
        "\n",
        "# Example: Data for a Public Health vaccination study\n",
        "# Each row is a person: [Age, Zip Code, Vaccinated (1=yes, 0=no)]\n",
        "community_data = np.array([\n",
        "    [68, 90210, 1],\n",
        "    [25, 90211, 0],\n",
        "    [45, 90210, 1],\n",
        "    [33, 90212, 1],\n",
        "    [76, 90211, 0],\n",
        "    [22, 90210, 1]\n",
        "])\n",
        "\n",
        "# Let's ask some public health questions!\n",
        "\n",
        "# What is the average age of participants in our study?\n",
        "average_age = np.mean(community_data[:, 0])\n",
        "print(\"Public Health - Average participant age:\", round(average_age, 1), \"years\")\n",
        "\n",
        "# How many people in this sample have been vaccinated?\n",
        "# The sum of the 'Vaccinated' column (index 2) gives us the total\n",
        "total_vaccinated = np.sum(community_data[:, 2])\n",
        "print(\"Public Health - Total vaccinated in sample:\", total_vaccinated)\n",
        "\n",
        "# What is the average age of the UNVACCINATED participants?\n",
        "unvaccinated_mask = community_data[:, 2] == 0  # Find where vaccinated column is 0\n",
        "unvaccinated_group = community_data[unvaccinated_mask]\n",
        "avg_age_unvaccinated = np.mean(unvaccinated_group[:, 0])\n",
        "print(\"Public Health - Average age of unvaccinated:\", round(avg_age_unvaccinated, 1), \"years\")"
      ],
      "outputs": [
        {
          "output_type": "stream",
          "name": "stdout",
          "text": [
            "Public Health - Average participant age: 44.8 years\n",
            "Public Health - Total vaccinated in sample: 4\n",
            "Public Health - Average age of unvaccinated: 50.5 years\n"
          ]
        }
      ],
      "execution_count": null,
      "metadata": {
        "id": "u-bEFIj5W3D8",
        "colab": {
          "base_uri": "https://localhost:8080/"
        },
        "outputId": "c2b03bd2-e0db-4455-89ad-1ce5f19d316a"
      }
    },
    {
      "cell_type": "markdown",
      "source": [
        "-----\n",
        "<a id='congrats'></a>\n",
        "# 🎉 You've Completed the Foundation! What's Next?\n",
        "\n",
        "Congratulations on working through this entire notebook! You have successfully taken the first, most important step: learning the fundamental language of data.\n",
        "\n",
        "You've seen how to represent everything from a single patient's temperature to an entire public health dataset using Python's core tools.\n",
        "\n",
        "### Your Journey Continues\n",
        "\n",
        "This is just the beginning. To succeed in the **Healthcare AI & Data Literacy Challenge**, here are your next steps:\n",
        "\n",
        "* **Complete All Courses:** Make sure you finish the other required courses on DataCamp to build on this foundation.\n",
        "* **Start Thinking About Your Project:** Begin brainstorming for your \"Learning Showcase.\" Think about a simple healthcare problem and how the skills you're learning could help you ask a question about it.\n",
        "* **Engage with the Community:** The best way to learn is together. Ask questions, share your progress, and help others when you can.\n",
        "\n",
        "We are incredibly excited to see what you will learn and build. Stay curious, keep learning, and good luck with the rest of the challenge! 🎓"
      ],
      "metadata": {
        "id": "_w8srcr-W3D8"
      }
    }
  ],
  "metadata": {
    "colab": {
      "provenance": [],
      "include_colab_link": true
    },
    "kernelspec": {
      "display_name": "Python 3",
      "name": "python3"
    }
  },
  "nbformat": 4,
  "nbformat_minor": 0
}