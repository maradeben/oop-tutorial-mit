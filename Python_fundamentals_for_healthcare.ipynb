{
  "cells": [
    {
      "cell_type": "markdown",
      "metadata": {
        "id": "view-in-github",
        "colab_type": "text"
      },
      "source": [
        "<a href=\"https://colab.research.google.com/github/maradeben/oop-tutorial-mit/blob/main/Python_fundamentals_for_healthcare.ipynb\" target=\"_parent\"><img src=\"https://colab.research.google.com/assets/colab-badge.svg\" alt=\"Open In Colab\"/></a>"
      ]
    },
    {
      "cell_type": "markdown",
      "source": [
        "# 🐍 Python Fundamentals for Healthcare: A Comprehensive Companion Guide\n",
        "\n",
        "![welcome](https://imgs.search.brave.com/6AUCT3KxHZPH8bXlACEFDmV5kIHmrWvE5uBt4H4GtSA/rs:fit:500:0:1:0/g:ce/aHR0cHM6Ly90NC5m/dGNkbi5uZXQvanBn/LzEyLzQ3LzU1LzU5/LzM2MF9GXzEyNDc1/NTU5MDNfMTN6dW4y/Nmt5d0dsR1Q2SmFY/UVUwTHB1NFJGRDhu/YksuanBn)\n",
        "\n",
        "**Welcome to the Healthcare AI & Data Literacy Challenge\\!** 🎉\n",
        "\n",
        "This notebook is your practical, hands-on guide to translating the data science concepts you're learning on DataCamp into real-world healthcare scenarios. This comprehensive version covers everything from basic Python syntax to advanced exploratory analysis and statistical visualization.\n",
        "\n",
        "**How to Use This Notebook:**\n",
        "\n",
        "  * Read the explanations in the text cells (like this one).\n",
        "  * Run the code cells by clicking the \"Play\" button (▶️) to see the Python code in action.\n",
        "  * Experiment\\! Change the values and see what happens.\n",
        "\n",
        "Let's begin by bridging the gap between code and the clinic.\n",
        "\n",
        "-----\n",
        "\n",
        "***(Markdown Cell)***\n",
        "\n",
        "## 0\\. Python Fundamentals: The Building Blocks\n",
        "\n",
        "Before diving into data analysis, it's essential to understand the basic syntax of Python. Think of these as the fundamental grammar rules you need to write correct and effective code.\n",
        "\n",
        "### Variables and Data Types\n",
        "\n",
        "A **variable** is a name you give to a piece of data so you can refer to it later. In healthcare, you can think of variables as the fields on a patient's chart. Each piece of data has a **type**:\n",
        "\n",
        "  * **String (`str`):** Plain text, like a patient's name. Must be enclosed in quotes (`\" \"`).\n",
        "  * **Integer (`int`):** A whole number, like a patient's age.\n",
        "  * **Float (`float`):** A number with a decimal point, like a patient's temperature.\n",
        "  * **Boolean (`bool`):** Represents either `True` or `False`, like the status of a consent form.\n",
        "\n",
        "-----\n",
        "\n",
        "***(Code Cell)***"
      ],
      "metadata": {
        "id": "g-aB-KscST6d"
      }
    },
    {
      "cell_type": "markdown",
      "source": [
        "# 🐍 Python Fundamentals for Healthcare: A Comprehensive Companion Guide\n",
        "\n",
        "**Welcome to the Healthcare AI & Data Literacy Challenge\\!** 🎉\n",
        "\n",
        "This notebook is your practical, hands-on guide to translating the data science concepts you're learning on DataCamp into real-world healthcare scenarios. This comprehensive version covers everything from basic Python syntax to advanced exploratory analysis and statistical visualization.\n",
        "\n",
        "**How to Use This Notebook:**\n",
        "\n",
        "  * Read the explanations in the text cells (like this one).\n",
        "  * Run the code cells by clicking the \"Play\" button (▶️) to see the Python code in action.\n",
        "  * Experiment\\! Change the values and see what happens.\n",
        "\n",
        "Let's begin by bridging the gap between code and the clinic.\n",
        "\n",
        "-----\n",
        "\n",
        "***(Markdown Cell)***\n",
        "\n",
        "## 0\\. Python Fundamentals: The Building Blocks\n",
        "\n",
        "Before diving into data analysis, it's essential to understand the basic syntax of Python. Think of these as the fundamental grammar rules you need to write correct and effective code.\n",
        "\n",
        "### Variables and Data Types\n",
        "\n",
        "A **variable** is a name you give to a piece of data so you can refer to it later. In healthcare, you can think of variables as the fields on a patient's chart. Each piece of data has a **type**:\n",
        "\n",
        "  * **String (`str`):** Plain text, like a patient's name. Must be enclosed in quotes (`\" \"`).\n",
        "  * **Integer (`int`):** A whole number, like a patient's age.\n",
        "  * **Float (`float`):** A number with a decimal point, like a patient's temperature.\n",
        "  * **Boolean (`bool`):** Represents either `True` or `False`, like the status of a consent form.\n",
        "\n",
        "-----\n",
        "\n",
        "***(Code Cell)***"
      ],
      "metadata": {
        "id": "P8tfpa9ZSU9m"
      }
    },
    {
      "cell_type": "markdown",
      "source": [
        "# 🐍 Python Fundamentals for Healthcare: A Comprehensive Companion Guide\n",
        "\n",
        "**Welcome to the Healthcare AI & Data Literacy Challenge\\!** 🎉\n",
        "\n",
        "This notebook is your practical, hands-on guide to translating the data science concepts you're learning on DataCamp into real-world healthcare scenarios. This comprehensive version covers everything from basic Python syntax to advanced exploratory analysis and statistical visualization.\n",
        "\n",
        "**How to Use This Notebook:**\n",
        "\n",
        "  * Read the explanations in the text cells (like this one).\n",
        "  * Run the code cells by clicking the \"Play\" button (▶️) to see the Python code in action.\n",
        "  * Experiment\\! Change the values and see what happens.\n",
        "\n",
        "Let's begin by bridging the gap between code and the clinic.\n",
        "\n",
        "-----\n",
        "\n",
        "***(Markdown Cell)***\n",
        "\n",
        "## 0\\. Python Fundamentals: The Building Blocks\n",
        "\n",
        "Before diving into data analysis, it's essential to understand the basic syntax of Python. Think of these as the fundamental grammar rules you need to write correct and effective code.\n",
        "\n",
        "### Variables and Data Types\n",
        "\n",
        "A **variable** is a name you give to a piece of data so you can refer to it later. In healthcare, you can think of variables as the fields on a patient's chart. Each piece of data has a **type**:\n",
        "\n",
        "  * **String (`str`):** Plain text, like a patient's name. Must be enclosed in quotes (`\" \"`).\n",
        "  * **Integer (`int`):** A whole number, like a patient's age.\n",
        "  * **Float (`float`):** A number with a decimal point, like a patient's temperature.\n",
        "  * **Boolean (`bool`):** Represents either `True` or `False`, like the status of a consent form.\n",
        "\n",
        "-----\n",
        "\n",
        "***(Code Cell)***"
      ],
      "metadata": {
        "id": "RW0AS6vdSV4p"
      }
    },
    {
      "cell_type": "markdown",
      "source": [
        "# 🐍 Python Fundamentals for Healthcare: A Comprehensive Companion Guide\n",
        "\n",
        "**Welcome to the Healthcare AI & Data Literacy Challenge\\!** 🎉\n",
        "\n",
        "This notebook is your practical, hands-on guide to translating the data science concepts you're learning on DataCamp into real-world healthcare scenarios. This comprehensive version covers everything from basic Python syntax to advanced exploratory analysis and statistical visualization.\n",
        "\n",
        "**How to Use This Notebook:**\n",
        "\n",
        "  * Read the explanations in the text cells (like this one).\n",
        "  * Run the code cells by clicking the \"Play\" button (▶️) to see the Python code in action.\n",
        "  * Experiment\\! Change the values and see what happens.\n",
        "\n",
        "Let's begin by bridging the gap between code and the clinic.\n",
        "\n",
        "-----\n",
        "\n",
        "***(Markdown Cell)***\n",
        "\n",
        "## 0\\. Python Fundamentals: The Building Blocks\n",
        "\n",
        "Before diving into data analysis, it's essential to understand the basic syntax of Python. Think of these as the fundamental grammar rules you need to write correct and effective code.\n",
        "\n",
        "### Variables and Data Types\n",
        "\n",
        "A **variable** is a name you give to a piece of data so you can refer to it later. In healthcare, you can think of variables as the fields on a patient's chart. Each piece of data has a **type**:\n",
        "\n",
        "  * **String (`str`):** Plain text, like a patient's name. Must be enclosed in quotes (`\" \"`).\n",
        "  * **Integer (`int`):** A whole number, like a patient's age.\n",
        "  * **Float (`float`):** A number with a decimal point, like a patient's temperature.\n",
        "  * **Boolean (`bool`):** Represents either `True` or `False`, like the status of a consent form.\n",
        "\n",
        "-----\n",
        "\n",
        "***(Code Cell)***"
      ],
      "metadata": {
        "id": "h7luAYyNRV_Y"
      }
    },
    {
      "cell_type": "code",
      "source": [
        "# Storing different types of patient information in variables\n",
        "patient_name = \"John Snow\"\n",
        "patient_age = 29\n",
        "body_temperature = 36.8\n",
        "is_feverish = False\n",
        "\n",
        "# The print() function displays the value of a variable\n",
        "print(\"Patient Name:\", patient_name)\n",
        "print(\"Patient Age:\", patient_age)\n",
        "print(\"Body Temperature:\", body_temperature)\n",
        "print(\"Is the patient feverish?\", is_feverish)"
      ],
      "outputs": [],
      "execution_count": null,
      "metadata": {
        "id": "FJtKw9LeRV_a"
      }
    },
    {
      "cell_type": "markdown",
      "source": [
        "-----\n",
        "\n",
        "***(Markdown Cell)***\n",
        "\n",
        "### Python Lists\n",
        "\n",
        "A **list** is an ordered collection of items. It's incredibly useful for storing a sequence of related data, like a patient's heart rate readings over several hours or a list of medications. Lists are created using square brackets `[]`.\n",
        "\n",
        "You can access individual items in a list using their **index**, which starts from **0**.\n",
        "\n",
        "-----\n",
        "\n",
        "***(Code Cell)***"
      ],
      "metadata": {
        "id": "pYi0y8KVRV_b"
      }
    },
    {
      "cell_type": "code",
      "source": [
        "# A list of heart rate readings for a patient\n",
        "heart_rate_readings = [72, 75, 71, 78, 74]\n",
        "\n",
        "# Access the first reading (at index 0)\n",
        "first_reading = heart_rate_readings[0]\n",
        "print(\"First heart rate reading:\", first_reading)\n",
        "\n",
        "# Access the last reading\n",
        "last_reading = heart_rate_readings[-1]\n",
        "print(\"Last heart rate reading:\", last_reading)\n",
        "\n",
        "# You can change items in a list\n",
        "heart_rate_readings[2] = 73\n",
        "print(\"Corrected readings:\", heart_rate_readings)\n",
        "\n",
        "# You can add items to a list using the .append() method\n",
        "heart_rate_readings.append(76)\n",
        "print(\"Readings after adding a new one:\", heart_rate_readings)"
      ],
      "outputs": [],
      "execution_count": null,
      "metadata": {
        "id": "2LVOzj8jRV_b"
      }
    },
    {
      "cell_type": "markdown",
      "source": [
        "-----\n",
        "\n",
        "***(Markdown Cell)***\n",
        "\n",
        "### Functions and Methods\n",
        "\n",
        "  * A **function** is a piece of reusable code that performs a specific action. You've already used `print()`. Other built-in functions include `len()` (to get the length of a list) and `max()` (to find the maximum value).\n",
        "  * A **method** is a function that \"belongs\" to a specific type of object. You saw this with the list method `.append()`. You call methods using a dot (`.`).\n",
        "\n",
        "-----\n",
        "\n",
        "***(Code Cell)***"
      ],
      "metadata": {
        "id": "zX-9kDY_RV_b"
      }
    },
    {
      "cell_type": "code",
      "source": [
        "# Using built-in functions\n",
        "number_of_readings = len(heart_rate_readings)\n",
        "highest_heart_rate = max(heart_rate_readings)\n",
        "\n",
        "print(\"Total number of readings:\", number_of_readings)\n",
        "print(\"Highest heart rate recorded:\", highest_heart_rate)\n",
        "\n",
        "# Using a string method to make text uppercase\n",
        "patient_condition = \"stable\"\n",
        "print(\"Patient condition (uppercase):\", patient_condition.upper())"
      ],
      "outputs": [],
      "execution_count": null,
      "metadata": {
        "id": "mBoFv8PPRV_c"
      }
    },
    {
      "cell_type": "markdown",
      "source": [
        "-----\n",
        "\n",
        "***(Markdown Cell)***\n",
        "\n",
        "### Importing Packages\n",
        "\n",
        "Python's real power comes from **packages** (also called libraries), which are collections of code written by others that you can use. To use a package, you must first `import` it. The most important package for data science is **NumPy**, which is designed for efficient numerical calculations. We typically import it with the alias `np`.\n",
        "\n",
        "NumPy's main data structure is the **NumPy array**, which is like a supercharged list that allows you to perform calculations on all elements at once (this is called **vectorization**).\n",
        "\n",
        "-----\n",
        "\n",
        "***(Code Cell)***"
      ],
      "metadata": {
        "id": "C-OKi4OnRV_c"
      }
    },
    {
      "cell_type": "code",
      "source": [
        "# Import the numpy package\n",
        "import numpy as np\n",
        "\n",
        "# Create two lists: patient heights in meters and weights in kg\n",
        "patient_heights_m = [1.75, 1.60, 1.82, 1.90]\n",
        "patient_weights_kg = [70, 65, 85, 92]\n",
        "\n",
        "# Convert lists to NumPy arrays\n",
        "np_heights = np.array(patient_heights_m)\n",
        "np_weights = np.array(patient_weights_kg)\n",
        "\n",
        "# Calculate Body Mass Index (BMI) for all patients at once\n",
        "bmi_values = np_weights / (np_heights ** 2)\n",
        "\n",
        "print(\"Patient BMI values:\", bmi_values)\n",
        "\n",
        "# Use a logical operator to see which patients have a BMI over 25\n",
        "high_bmi_check = bmi_values > 25\n",
        "print(\"Check for high BMI:\", high_bmi_check)"
      ],
      "outputs": [],
      "execution_count": null,
      "metadata": {
        "id": "eBaKZNlORV_c"
      }
    },
    {
      "cell_type": "markdown",
      "source": [
        "***(Markdown Cell)***\n",
        "\n",
        "## 1\\. Data Inspection & Validation: Your First Clinical Audit\n",
        "\n",
        "Now we move from basic Python to data analysis with **Pandas**. Before any analysis, you must understand your dataset's structure and validate its integrity. This is the first step of **Exploratory Data Analysis (EDA)**.\n",
        "\n",
        "  * `.info()`: Gives a technical summary of the DataFrame.\n",
        "  * `.describe()`: Provides key summary statistics for numerical columns.\n",
        "  * `.value_counts()`: Counts unique values in a categorical column.\n",
        "  * `.astype()`: Converts a column to a different data type.\n",
        "\n",
        "-----\n",
        "\n",
        "***(Code Cell)***"
      ],
      "metadata": {
        "id": "Xy_lH_FcRV_c"
      }
    },
    {
      "cell_type": "code",
      "source": [
        "# Create a more detailed DataFrame for our examples\n",
        "data = {\n",
        "    'patient_id': [101, 102, 103, 104, 105, 106, 107, 108, 109, 110],\n",
        "    'name': ['Amina Bello', 'John Okoro', 'Fatima Diallo', 'David Garcia', 'Chloe Wang', 'Samuel Jones', 'Maria Hernandez', 'Ben Carter', 'Sophia Chen', 'Liam Smith'],\n",
        "    'age': [42, 58, 35, 120, 42, 58, 35, 61, 28, 76],\n",
        "    'gender': ['Female', 'Male', 'Female', 'Male', 'Female', 'Male', 'Female', 'Male', 'Female', 'Male'],\n",
        "    'ward': ['Cardiology', 'Oncology', 'Cardiology', 'General Med', 'Oncology', 'Cardiology', 'General Med', 'Oncology', 'Cardiology', 'Geriatrics'],\n",
        "    'admission_date': pd.to_datetime(['2025-09-01', '2025-09-01', '2025-09-02', '2025-09-02', '2025-09-03', '2025-09-03', '2025-09-04', '2025-09-05', '2025-09-05', '2025-09-06']),\n",
        "    'temperature_c': [38.5, 37.1, np.nan, 37.5, 36.8, 38.6, np.nan, 36.9, 37.2, 37.1],\n",
        "    'blood_pressure_systolic': [140, 125, 155, 130, 120, 142, 118, 121, 115, 160],\n",
        "    'diagnosis_text': ['Acute MI', 'Lung Cancer Stage IV', 'Unstable Angina', 'Pneumonia', 'Breast Cancer Stage II', 'CHF Exacerbation', 'Community Acquired Pneumonia', 'Metastatic Lung Cancer', 'Post-PCI Care', 'Delirium']\n",
        "}\n",
        "patient_records_df = pd.DataFrame(data)\n",
        "\n",
        "# --- Initial Inspection ---\n",
        "print(\"--- DataFrame Info ---\")\n",
        "patient_records_df.info()\n",
        "\n",
        "print(\"\\n--- Numerical Summary ---\")\n",
        "print(patient_records_df.describe())\n",
        "\n",
        "print(\"\\n--- Patient Counts per Ward ---\")\n",
        "print(patient_records_df['ward'].value_counts())"
      ],
      "outputs": [],
      "execution_count": null,
      "metadata": {
        "id": "0JM-oOwwRV_d"
      }
    },
    {
      "cell_type": "markdown",
      "source": [
        "-----\n",
        "\n",
        "***(Markdown Cell)***\n",
        "\n",
        "## 2\\. Data Cleaning: Handling Missing Values & Outliers\n",
        "\n",
        "Real-world healthcare data is often messy. It can have missing values or **outliers** (extreme values that might be errors).\n",
        "\n",
        "### Missing Data Strategies\n",
        "\n",
        "  * **Finding:** Use `.isna().sum()` to count missing values per column.\n",
        "  * **Dropping:** Use `.dropna()` to remove rows with missing data. This is okay for a small number of missing rows, but can introduce bias if the missingness is not random.\n",
        "  * **Imputing:** Use `.fillna()` to replace missing values. A powerful technique is to impute by a sub-group. For example, filling a missing temperature with the *median temperature of the patient's specific ward*.\n",
        "\n",
        "### Outlier Detection\n",
        "\n",
        "  * **Visualization:** A **boxplot** is the best way to visualize outliers.\n",
        "  * **Calculation:** The **Interquartile Range (IQR)** method is standard. Outliers are typically defined as values below `Q1 - 1.5*IQR` or above `Q3 + 1.5*IQR`.\n",
        "\n",
        "-----\n",
        "\n",
        "***(Code Cell)***"
      ],
      "metadata": {
        "id": "HluWlRytRV_d"
      }
    },
    {
      "cell_type": "code",
      "source": [
        "# --- Handling Missing Values ---\n",
        "print(\"--- Missing Values Before Cleaning ---\")\n",
        "print(patient_records_df.isna().sum())\n",
        "\n",
        "# Impute by sub-group: Fill missing temperatures with the median of their respective wards\n",
        "patient_records_df['temperature_c'] = patient_records_df.groupby('ward')['temperature_c'].transform(lambda x: x.fillna(x.median()))\n",
        "\n",
        "print(\"\\n--- Missing Values After Imputation ---\")\n",
        "print(patient_records_df.isna().sum())\n",
        "\n",
        "\n",
        "# --- Handling Outliers ---\n",
        "print(\"\\n--- Visualizing Outliers in Age ---\")\n",
        "sns.boxplot(data=patient_records_df, x='age')\n",
        "plt.title(\"Boxplot of Patient Ages\")\n",
        "plt.show()\n",
        "\n",
        "# The age 120 is clearly an outlier. Let's calculate the IQR thresholds.\n",
        "Q1 = patient_records_df['age'].quantile(0.25)\n",
        "Q3 = patient_records_df['age'].quantile(0.75)\n",
        "IQR = Q3 - Q1\n",
        "upper_threshold = Q3 + 1.5 * IQR\n",
        "lower_threshold = Q1 - 1.5 * IQR\n",
        "\n",
        "print(f\"Age Outlier Upper Threshold: {upper_threshold}\")\n",
        "\n",
        "# Filter out the outliers\n",
        "clean_records_df = patient_records_df[patient_records_df['age'] < upper_threshold]\n",
        "print(f\"\\nDataFrame shape before removing outlier: {patient_records_df.shape}\")\n",
        "print(f\"DataFrame shape after removing outlier: {clean_records_df.shape}\")"
      ],
      "outputs": [],
      "execution_count": null,
      "metadata": {
        "id": "IlTyZiytRV_d"
      }
    },
    {
      "cell_type": "markdown",
      "source": [
        "-----\n",
        "\n",
        "***(Markdown Cell)***\n",
        "\n",
        "## 3\\. Feature Engineering: Creating New Variables\n",
        "\n",
        "**Feature engineering** is the process of creating new, informative variables from your existing data.\n",
        "\n",
        "  * **From Text:** Messy categorical data, like the `diagnosis_text` column, can be cleaned. We can use `.str.contains()` to search for keywords and `np.select()` to create a new, clean category column.\n",
        "  * **From Dates:** `datetime` columns are a rich source for new features. We can use the `.dt` accessor to extract the month, day of the week, etc., which can reveal important patterns (e.g., more heart attack admissions on Mondays).\n",
        "\n",
        "-----\n",
        "\n",
        "***(Code Cell)***"
      ],
      "metadata": {
        "id": "szpv8_gWRV_d"
      }
    },
    {
      "cell_type": "code",
      "source": [
        "# Let's use the cleaned DataFrame\n",
        "df = clean_records_df.copy()\n",
        "\n",
        "# --- Feature Engineering from Text ---\n",
        "conditions = [\n",
        "    df['diagnosis_text'].str.contains(\"MI|Angina|CHF|PCI\"),\n",
        "    df['diagnosis_text'].str.contains(\"Cancer\"),\n",
        "    df['diagnosis_text'].str.contains(\"Pneumonia\")\n",
        "]\n",
        "choices = ['Cardiovascular', 'Oncology', 'Respiratory']\n",
        "\n",
        "df['diagnosis_category'] = np.select(conditions, choices, default='Other')\n",
        "\n",
        "print(\"--- New Diagnosis Category Column ---\")\n",
        "print(df[['diagnosis_text', 'diagnosis_category']].head())\n",
        "\n",
        "\n",
        "# --- Feature Engineering from Dates ---\n",
        "df['admission_month'] = df['admission_date'].dt.month\n",
        "df['admission_weekday'] = df['admission_date'].dt.day_name()\n",
        "print(\"\\n--- New Date-Based Features ---\")\n",
        "print(df[['admission_date', 'admission_month', 'admission_weekday']].head())"
      ],
      "outputs": [],
      "execution_count": null,
      "metadata": {
        "id": "pmvoi9SGRV_d"
      }
    },
    {
      "cell_type": "markdown",
      "source": [
        "-----\n",
        "\n",
        "***(Markdown Cell)***\n",
        "\n",
        "## 4\\. Summarizing & Correlating Data\n",
        "\n",
        "Now that our data is clean, we can summarize it and look for relationships.\n",
        "\n",
        "  * **`.groupby()` & `.pivot_table()`:** These are the primary tools for creating summary tables.\n",
        "  * **`pd.crosstab()`:** This is perfect for seeing the relationship between two *categorical* variables, like counting the number of male/female patients in each ward.\n",
        "  * **Correlation (`.corr()`):** This measures the *linear* relationship between two numerical variables. A **heatmap** is the best way to visualize a correlation matrix.\n",
        "\n",
        "-----\n",
        "\n",
        "***(Code Cell)***"
      ],
      "metadata": {
        "id": "gF7CyIVsRV_d"
      }
    },
    {
      "cell_type": "code",
      "source": [
        "# --- Cross-Tabulation ---\n",
        "# See the count of patients by ward and gender\n",
        "ward_gender_crosstab = pd.crosstab(df['ward'], df['gender'])\n",
        "print(\"--- Crosstab of Ward vs. Gender ---\")\n",
        "print(ward_gender_crosstab)\n",
        "\n",
        "# --- Correlation Analysis ---\n",
        "numerical_cols = ['age', 'temperature_c', 'blood_pressure_systolic']\n",
        "correlation_matrix = df[numerical_cols].corr()\n",
        "\n",
        "print(\"\\n--- Correlation Matrix ---\")\n",
        "print(correlation_matrix)\n",
        "\n",
        "# Visualize the correlation matrix with a heatmap\n",
        "print(\"\\n--- Correlation Heatmap ---\")\n",
        "sns.heatmap(correlation_matrix, annot=True)\n",
        "plt.title(\"Correlation Between Patient Metrics\")\n",
        "plt.show()"
      ],
      "outputs": [],
      "execution_count": null,
      "metadata": {
        "id": "wcG_VPxJRV_d"
      }
    },
    {
      "cell_type": "markdown",
      "source": [
        "-----\n",
        "\n",
        "***(Markdown Cell)***\n",
        "\n",
        "## 5\\. Advanced Visualization with Seaborn\n",
        "\n",
        "Visualizing data is key to understanding it. **Seaborn** simplifies the creation of complex statistical plots.\n",
        "\n",
        "  * **Distribution Plots:** While histograms are good, a **Kernel Density Estimate (KDE)** plot (`sns.kdeplot`) can provide a smoother view of a variable's distribution.\n",
        "  * **Relational Plots:** `sns.relplot()` is ideal for exploring relationships between two variables, using `hue`, `style`, and `col` to add more dimensions.\n",
        "  * **Categorical Plots:** `sns.catplot()` is used for comparing a numerical variable across different categories. Common kinds are `\"bar\"`, `\"box\"`, and `\"point\"`.\n",
        "\n",
        "-----\n",
        "\n",
        "***(Code Cell)***"
      ],
      "metadata": {
        "id": "DRPuuKy_RV_e"
      }
    },
    {
      "cell_type": "code",
      "source": [
        "# --- KDE Plot to see age distribution by ward ---\n",
        "sns.kdeplot(data=df, x='age', hue='ward')\n",
        "plt.title(\"Age Distribution Density by Ward\")\n",
        "plt.show()\n",
        "\n",
        "# --- Scatter plot with multiple dimensions ---\n",
        "sns.relplot(\n",
        "    x='age',\n",
        "    y='blood_pressure_systolic',\n",
        "    data=df,\n",
        "    kind='scatter',\n",
        "    hue='ward',\n",
        "    style='gender',\n",
        "    col='has_insurance' # Separate plots for insured vs. uninsured\n",
        ")\n",
        "plt.show()\n",
        "\n",
        "# --- Boxplot comparing distributions ---\n",
        "sns.catplot(x='ward', y='temperature_c', data=df, kind='box')\n",
        "plt.title(\"Temperature Distribution by Ward\")\n",
        "plt.xticks(rotation=45)\n",
        "plt.show()"
      ],
      "outputs": [],
      "execution_count": null,
      "metadata": {
        "id": "BlGEFXnaRV_e"
      }
    },
    {
      "cell_type": "markdown",
      "source": [
        "-----\n",
        "\n",
        "***(Markdown Cell)***\n",
        "\n",
        "## 6\\. Probability & Statistics: Understanding Chance\n",
        "\n",
        "Statistics allows us to understand uncertainty and make data-driven inferences.\n",
        "\n",
        "  * **Probability Distributions:** These describe the likelihood of different outcomes.\n",
        "      * **Binomial Distribution:** Used for a sequence of yes/no or success/failure trials. *Example: What is the probability that 8 out of 10 patients will recover, given an 85% recovery rate?*\n",
        "      * **Normal Distribution:** The classic \"bell curve,\" which describes many natural phenomena like height or blood pressure.\n",
        "  * **Central Limit Theorem (CLT):** A fundamental concept stating that if you take many samples and calculate their means, the distribution of those sample means will look like a normal distribution, regardless of the original data's shape. This is why the normal distribution is so important.\n",
        "\n",
        "-----\n",
        "\n",
        "***(Code Cell)***"
      ],
      "metadata": {
        "id": "w8Rz6H6QRV_e"
      }
    },
    {
      "cell_type": "code",
      "source": [
        "# --- Binomial Distribution Example ---\n",
        "# Probability of exactly 8 successes (recoveries) in 10 trials (patients) with p=0.85\n",
        "prob_8_recover = binom.pmf(k=8, n=10, p=0.85)\n",
        "print(f\"Probability of exactly 8 of 10 patients recovering: {prob_8_recover:.2f}\")\n",
        "\n",
        "# Probability of 8 or fewer recoveries\n",
        "prob_8_or_fewer = binom.cdf(k=8, n=10, p=0.85)\n",
        "print(f\"Probability of 8 or fewer patients recovering: {prob_8_or_fewer:.2f}\")\n",
        "\n",
        "\n",
        "# --- Normal Distribution Example ---\n",
        "# What is the probability a patient's systolic BP is less than 130,\n",
        "# assuming a mean of 125 and a standard deviation of 10?\n",
        "prob_less_130 = norm.cdf(130, loc=125, scale=10)\n",
        "print(f\"\\nProbability of Systolic BP < 130: {prob_less_130:.2f}\")\n",
        "\n",
        "# What is the blood pressure at the 95th percentile?\n",
        "bp_95th_percentile = norm.ppf(0.95, loc=125, scale=10)\n",
        "print(f\"The 95th percentile for systolic BP is: {bp_95th_percentile:.1f}\")"
      ],
      "outputs": [],
      "execution_count": null,
      "metadata": {
        "id": "sBtnwmWiRV_e"
      }
    },
    {
      "cell_type": "markdown",
      "source": [
        "-----\n",
        "\n",
        "***(Markdown Cell)***\n",
        "\n",
        "## 7\\. Specialty-Specific Module\n",
        "\n",
        "  * **Nursing:** Use `pd.crosstab()` to analyze the frequency of patient falls (`fall_occured`) across different hospital wards (`ward`).\n",
        "  * **General Medicine:** Use `sns.kdeplot` with `hue='smoker_status'` to compare the distribution of cholesterol levels between smokers and non-smokers.\n",
        "  * **Surgery:** `pd.merge()` a `surgeries_df` with `anesthesia_records_df` on `case_id` to link surgical outcomes with anesthesia type.\n",
        "  * **Pharmacy:** Use `.groupby('drug_class')['prescriptions'].sum()` to find the total number of prescriptions for each class of medication.\n",
        "  * **Radiology:** Use `.str.contains(\"MRI|CT\")` and `np.select` to create a `modality_type` column ('Advanced', 'Conventional') from a messy `study_description` column.\n",
        "  * **Oncology:** Use `sns.relplot(kind='line', ...)` to plot tumor marker levels over time for patients, with `col='treatment_protocol'` to create separate plots for each protocol.\n",
        "  * **Public Health:** Model a disease outbreak using the Poisson distribution (`poisson.rvs`) to simulate the number of new cases per day.\n",
        "  * **Health Information Management:** Join an `access_logs_df` with an `employees_df` using `pd.merge()` on `employee_id` to audit record access by department.\n",
        "\n",
        "-----\n",
        "\n",
        "***(Markdown Cell)***\n",
        "\n",
        "## Conclusion and Next Steps\n",
        "\n",
        "**Congratulations\\!** 🥳\n",
        "\n",
        "You've now seen a powerful range of tools for data analysis in Python, all grounded in healthcare contexts. You've covered:\n",
        "\n",
        "  * **Python Fundamentals** including variables, lists, and packages.\n",
        "  * **Cleaning & Validation** to ensure data quality.\n",
        "  * **Summarizing & Aggregating** with `.groupby()` and pivot tables.\n",
        "  * **Combining Datasets** by merging and concatenating tables.\n",
        "  * **Feature Engineering** to create new, insightful variables.\n",
        "  * **Statistical Visualization** using Seaborn to uncover patterns.\n",
        "  * **Core Concepts of Probability** to understand uncertainty.\n",
        "\n",
        "Your journey is just beginning. Take these concepts and apply them to the courses in the **AI & Data Literacy Challenge**. This notebook is your reference to connect what you're learning with what you know. Good luck\\!\n",
        "`     ` `     ` `     ` `     ` `     ` `     ` `     ` `     ` `     ` `     ` `     ` `     ` `     ` `     ` `     ` `    "
      ],
      "metadata": {
        "id": "PklPu1W9RV_e"
      }
    }
  ],
  "metadata": {
    "colab": {
      "provenance": [],
      "include_colab_link": true
    },
    "kernelspec": {
      "display_name": "Python 3",
      "name": "python3"
    }
  },
  "nbformat": 4,
  "nbformat_minor": 0
}