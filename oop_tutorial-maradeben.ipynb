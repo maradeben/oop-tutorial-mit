{
 "cells": [
  {
   "attachments": {},
   "cell_type": "markdown",
   "id": "33ecbefa-a2c0-484a-9f8a-6bc1568fcc56",
   "metadata": {
    "panel-layout": {
     "height": 902.125,
     "visible": true,
     "width": 100
    }
   },
   "source": [
    "# PYTHON FOR HEALTHCARE\n",
    "\n",
    "<div style=\"display: flex; align-items: center;\">\n",
    "    <img src=\"imgs/MEDICSINTECH40-logo200-x-1oo-2.png\" alt=\"Logo\" style=\"width: 100px; margin-right: 20px;\">\n",
    "    <div>\n",
    "    <span style=\"font-size: 28px; font-weight: bold;\">Medics in Tech Tutorial Session</span><br>\n",
    "    <span style=\"font-size: 20px; font-weight: medium;\">Topic: Object Oriented Programming for Healthcare</span>\n",
    "    </div>\n",
    "</div>\n",
    "\n",
    "#### Facilitator: EBENEZER MARADESA\n",
    "<img src='imgs/WhatsApp Image 2025-08-23 at 09.18.53.jpeg' width=\"600px\" height=\"200px\" alt='header'/>\n",
    "\n",
    "# OBJECT ORIENTED PROGRAMMING IN HEALTHCARE\n",
    "\n",
    "## Contents\n",
    "1. [**Introduction**](#introduction)\n",
    "2. [**Core Concepts of OOP**](#concepts)\n",
    "- [The Four Pillars of OOP](#pillars)\n",
    "3. [**Practical Demonstration**](#practical-demo)\n",
    "4. [**Final Demo: Capstone**](#final-demo)\n",
    "5. [**Extras**](#extras)\n",
    "6. [**Q & A**](#q-a)"
   ]
  },
  {
   "cell_type": "markdown",
   "id": "4320332a-8c90-45b9-a340-811a954e7272",
   "metadata": {
    "panel-layout": {
     "height": 428.234,
     "visible": true,
     "width": 100
    }
   },
   "source": [
    "<a id='introduction'></a>\n",
    "# 1. Introduction to OOP\n",
    "What is it? OOP is a way of structuring code by bundling related data (attributes) and actions (methods) into objects. Think of it as modeling real-world entities in your code.\n",
    "\n",
    "<div class=\"alert alert-warning\"> \n",
    "Prerequisites: To properly follow this lesson, you're expected to have a good grasp of the basics of functions (blocks of reusable code) and variables (containers for data). In OOP, methods are like functions that belong to an object, and attributes are like the object's variables.\n",
    "</div>\n",
    "\n",
    "<a id='concepts'></a>\n",
    "# 2. Core Concepts of OOP\n",
    "\n",
    "<img src='imgs/whatis-object_oriented_programming_half_column_mobile.png' width=\"500px\" height=\"200px\" alt='pillars of oop'/>\n",
    "<p>Concepts of OOP.<i>Source: techtarget.com</i></p>\n",
    "\n",
    "* **Class:** A class is a blueprint or a template for creating objects. It defines a set of attributes and methods that the objects created from it will have. Think of it as a template for constructing a person.\n",
    "* **Object:** An object is a collection of data along with **attributes (properties)** and **methods (functions)** that act on those data via the **dot ( . )** syntax. An object is an instance of a class. It's a real-world entity created from the class blueprint. Using the person analogy, an object is the individual person you construct from the template. You can have multiple objects (multiple persons) from a single class (template).\n",
    "* **Attribute:** An attribute is a variable that holds data for an object. It represents the properties or state of the object. For a Car class, attributes might include color, make, and year. For a person, this might include their name, anthropometry, profession, etc.\n",
    "* **Method:** A method is a function that belongs to a class. It defines the behavior or actions an object can perform. For instance, a person can have behaviours directing them to sleep(), eat(), work(), greet(), or perform any number of other actions.\n",
    "* **Constructor:** A constructor is a special method used to initialize a new object when it's created. In Python, this method is named __init__ (Python). It sets the initial values for the object's attributes. For instance, every person should have a name, every patient should have a hospital number/patient id.\n",
    "\n",
    "\n",
    "<img src='imgs/pillars.jpg' width=\"600px\" height=\"200px\" alt='pillars of oop'/>\n",
    "<p>Four Pillars of OOP.<i>Source: freecodecamp</i></p>\n",
    "\n",
    "<a id=\"pillars\"></a>\n",
    "<table bgcolor=\"#0dcaf0\">\n",
    "  <tr>\n",
    "    <!-- <td><img src=\"imgs/pillars.jpg\" alt=\"Logo\" width=\"100\"></td> -->\n",
    "    <td>\n",
    "      <h2>The Four Pillars of OOP</h2>\n",
    "      <ul>\n",
    "        <li><strong>Abstraction:</strong> This involves hiding complex details and showing only essential information. For example, when you use a phone, you interact with the screen and buttons, not the intricate electronics inside.</li>\n",
    "        <li><strong>Encapsulation:</strong> This is about bundling data (attributes) and the methods that operate on that data within a single unit (a class). It helps protect data from accidental modification.</li>\n",
    "        <li><strong>Inheritance:</strong> This allows a new class (child class) to inherit properties and behaviors from an existing class (parent class). It promotes code reusability. Think of different types of vehicles; they all share some common traits of a \"vehicle.\"</li>\n",
    "        <li><strong>Polymorphism:</strong> This means \"many forms.\" In OOP, it allows objects of different classes to respond to the same method call in their own way. Imagine a \"speak\" action; a dog will bark, and a cat will meow.</li>\n",
    "      </ul>\n",
    "    </td>\n",
    "  </tr>\n",
    "</table>"
   ]
  },
  {
   "cell_type": "markdown",
   "id": "9b6d807d-ed6d-427e-b45e-bbfcf7606e59",
   "metadata": {
    "panel-layout": {
     "height": 156.578,
     "visible": true,
     "width": 100
    }
   },
   "source": [
    "<a id='practical-demo'></a>\n",
    "# 3. Practical Demonstration\n",
    "\n",
    "## Part A: You Knew it Before\n",
    "You've likely made use of OOP at some point or the other in the course of your programming journey and coding tasks, whether you knew it or not.\n",
    "\n",
    "Here are some demonstrations:\n",
    "- The numpy module is an object, and you can access its methods to carry out operations.\n",
    "\n"
   ]
  },
  {
   "cell_type": "code",
   "execution_count": 1,
   "id": "2f5be60e-5fec-4d4c-b772-e648aae42ef2",
   "metadata": {
    "panel-layout": {
     "height": 0,
     "visible": true,
     "width": 100
    }
   },
   "outputs": [
    {
     "name": "stdout",
     "output_type": "stream",
     "text": [
      "Patient's Height: 162.0\n"
     ]
    }
   ],
   "source": [
    "# the numpy module\n",
    "import numpy as np\n",
    "height = 162.12 # a patient's height in cm\n",
    "print(f\"Patient's Height: {np.round(height)}\")"
   ]
  },
  {
   "cell_type": "markdown",
   "id": "f0dd77ea-6ee6-4162-947a-738f8f8e6c60",
   "metadata": {
    "panel-layout": {
     "height": 80.2812,
     "visible": true,
     "width": 100
    }
   },
   "source": [
    "In fact, every thing in Python is an object.\n",
    "\n",
    "Take the `height` variable above for instance; we can show that it's an object, display it's attributes and methods, and try to access some of them."
   ]
  },
  {
   "cell_type": "code",
   "execution_count": 2,
   "id": "818eceb4-d054-42bc-a70b-d934624a07f8",
   "metadata": {
    "panel-layout": {
     "height": 10,
     "visible": true,
     "width": 100
    }
   },
   "outputs": [
    {
     "data": {
      "text/plain": [
       "float"
      ]
     },
     "execution_count": 2,
     "metadata": {},
     "output_type": "execute_result"
    }
   ],
   "source": [
    "type(height)"
   ]
  },
  {
   "cell_type": "code",
   "execution_count": 3,
   "id": "9775c790-eea9-4c70-ba10-1a34cc4b2c91",
   "metadata": {},
   "outputs": [
    {
     "data": {
      "text/plain": [
       "\u001b[0;31mType:\u001b[0m        float\n",
       "\u001b[0;31mString form:\u001b[0m 162.12\n",
       "\u001b[0;31mDocstring:\u001b[0m   Convert a string or number to a floating-point number, if possible."
      ]
     },
     "metadata": {},
     "output_type": "display_data"
    }
   ],
   "source": [
    "height?"
   ]
  },
  {
   "cell_type": "code",
   "execution_count": 4,
   "id": "5d109ce8-9cd8-4908-ab0e-2452f4e739c2",
   "metadata": {
    "panel-layout": {
     "height": 0,
     "visible": true,
     "width": 100
    },
    "scrolled": true
   },
   "outputs": [
    {
     "name": "stdout",
     "output_type": "stream",
     "text": [
      "Help on float object:\n",
      "\n",
      "class float(object)\n",
      " |  float(x=0, /)\n",
      " |\n",
      " |  Convert a string or number to a floating-point number, if possible.\n",
      " |\n",
      " |  Methods defined here:\n",
      " |\n",
      " |  __abs__(self, /)\n",
      " |      abs(self)\n",
      " |\n",
      " |  __add__(self, value, /)\n",
      " |      Return self+value.\n",
      " |\n",
      " |  __bool__(self, /)\n",
      " |      True if self else False\n",
      " |\n",
      " |  __ceil__(self, /)\n",
      " |      Return the ceiling as an Integral.\n",
      " |\n",
      " |  __divmod__(self, value, /)\n",
      " |      Return divmod(self, value).\n",
      " |\n",
      " |  __eq__(self, value, /)\n",
      " |      Return self==value.\n",
      " |\n",
      " |  __float__(self, /)\n",
      " |      float(self)\n",
      " |\n",
      " |  __floor__(self, /)\n",
      " |      Return the floor as an Integral.\n",
      " |\n",
      " |  __floordiv__(self, value, /)\n",
      " |      Return self//value.\n",
      " |\n",
      " |  __format__(self, format_spec, /)\n",
      " |      Formats the float according to format_spec.\n",
      " |\n",
      " |  __ge__(self, value, /)\n",
      " |      Return self>=value.\n",
      " |\n",
      " |  __getnewargs__(self, /)\n",
      " |\n",
      " |  __gt__(self, value, /)\n",
      " |      Return self>value.\n",
      " |\n",
      " |  __hash__(self, /)\n",
      " |      Return hash(self).\n",
      " |\n",
      " |  __int__(self, /)\n",
      " |      int(self)\n",
      " |\n",
      " |  __le__(self, value, /)\n",
      " |      Return self<=value.\n",
      " |\n",
      " |  __lt__(self, value, /)\n",
      " |      Return self<value.\n",
      " |\n",
      " |  __mod__(self, value, /)\n",
      " |      Return self%value.\n",
      " |\n",
      " |  __mul__(self, value, /)\n",
      " |      Return self*value.\n",
      " |\n",
      " |  __ne__(self, value, /)\n",
      " |      Return self!=value.\n",
      " |\n",
      " |  __neg__(self, /)\n",
      " |      -self\n",
      " |\n",
      " |  __pos__(self, /)\n",
      " |      +self\n",
      " |\n",
      " |  __pow__(self, value, mod=None, /)\n",
      " |      Return pow(self, value, mod).\n",
      " |\n",
      " |  __radd__(self, value, /)\n",
      " |      Return value+self.\n",
      " |\n",
      " |  __rdivmod__(self, value, /)\n",
      " |      Return divmod(value, self).\n",
      " |\n",
      " |  __repr__(self, /)\n",
      " |      Return repr(self).\n",
      " |\n",
      " |  __rfloordiv__(self, value, /)\n",
      " |      Return value//self.\n",
      " |\n",
      " |  __rmod__(self, value, /)\n",
      " |      Return value%self.\n",
      " |\n",
      " |  __rmul__(self, value, /)\n",
      " |      Return value*self.\n",
      " |\n",
      " |  __round__(self, ndigits=None, /)\n",
      " |      Return the Integral closest to x, rounding half toward even.\n",
      " |\n",
      " |      When an argument is passed, work like built-in round(x, ndigits).\n",
      " |\n",
      " |  __rpow__(self, value, mod=None, /)\n",
      " |      Return pow(value, self, mod).\n",
      " |\n",
      " |  __rsub__(self, value, /)\n",
      " |      Return value-self.\n",
      " |\n",
      " |  __rtruediv__(self, value, /)\n",
      " |      Return value/self.\n",
      " |\n",
      " |  __sub__(self, value, /)\n",
      " |      Return self-value.\n",
      " |\n",
      " |  __truediv__(self, value, /)\n",
      " |      Return self/value.\n",
      " |\n",
      " |  __trunc__(self, /)\n",
      " |      Return the Integral closest to x between 0 and x.\n",
      " |\n",
      " |  as_integer_ratio(self, /)\n",
      " |      Return a pair of integers, whose ratio is exactly equal to the original float.\n",
      " |\n",
      " |      The ratio is in lowest terms and has a positive denominator.  Raise\n",
      " |      OverflowError on infinities and a ValueError on NaNs.\n",
      " |\n",
      " |      >>> (10.0).as_integer_ratio()\n",
      " |      (10, 1)\n",
      " |      >>> (0.0).as_integer_ratio()\n",
      " |      (0, 1)\n",
      " |      >>> (-.25).as_integer_ratio()\n",
      " |      (-1, 4)\n",
      " |\n",
      " |  conjugate(self, /)\n",
      " |      Return self, the complex conjugate of any float.\n",
      " |\n",
      " |  hex(self, /)\n",
      " |      Return a hexadecimal representation of a floating-point number.\n",
      " |\n",
      " |      >>> (-0.1).hex()\n",
      " |      '-0x1.999999999999ap-4'\n",
      " |      >>> 3.14159.hex()\n",
      " |      '0x1.921f9f01b866ep+1'\n",
      " |\n",
      " |  is_integer(self, /)\n",
      " |      Return True if the float is an integer.\n",
      " |\n",
      " |  ----------------------------------------------------------------------\n",
      " |  Class methods defined here:\n",
      " |\n",
      " |  __getformat__(typestr, /)\n",
      " |      You probably don't want to use this function.\n",
      " |\n",
      " |        typestr\n",
      " |          Must be 'double' or 'float'.\n",
      " |\n",
      " |      It exists mainly to be used in Python's test suite.\n",
      " |\n",
      " |      This function returns whichever of 'unknown', 'IEEE, big-endian' or 'IEEE,\n",
      " |      little-endian' best describes the format of floating-point numbers used by the\n",
      " |      C type named by typestr.\n",
      " |\n",
      " |  fromhex(string, /)\n",
      " |      Create a floating-point number from a hexadecimal string.\n",
      " |\n",
      " |      >>> float.fromhex('0x1.ffffp10')\n",
      " |      2047.984375\n",
      " |      >>> float.fromhex('-0x1p-1074')\n",
      " |      -5e-324\n",
      " |\n",
      " |  ----------------------------------------------------------------------\n",
      " |  Static methods defined here:\n",
      " |\n",
      " |  __new__(*args, **kwargs)\n",
      " |      Create and return a new object.  See help(type) for accurate signature.\n",
      " |\n",
      " |  ----------------------------------------------------------------------\n",
      " |  Data descriptors defined here:\n",
      " |\n",
      " |  imag\n",
      " |      the imaginary part of a complex number\n",
      " |\n",
      " |  real\n",
      " |      the real part of a complex number\n",
      "\n"
     ]
    }
   ],
   "source": [
    "help(height)"
   ]
  },
  {
   "cell_type": "code",
   "execution_count": 5,
   "id": "7019f0f7-554f-4105-baf5-90ce8c84a4f8",
   "metadata": {
    "panel-layout": {
     "height": 1060.5,
     "visible": true,
     "width": 100
    },
    "scrolled": true
   },
   "outputs": [
    {
     "data": {
      "text/plain": [
       "['__abs__',\n",
       " '__add__',\n",
       " '__bool__',\n",
       " '__ceil__',\n",
       " '__class__',\n",
       " '__delattr__',\n",
       " '__dir__',\n",
       " '__divmod__',\n",
       " '__doc__',\n",
       " '__eq__',\n",
       " '__float__',\n",
       " '__floor__',\n",
       " '__floordiv__',\n",
       " '__format__',\n",
       " '__ge__',\n",
       " '__getattribute__',\n",
       " '__getformat__',\n",
       " '__getnewargs__',\n",
       " '__getstate__',\n",
       " '__gt__',\n",
       " '__hash__',\n",
       " '__init__',\n",
       " '__init_subclass__',\n",
       " '__int__',\n",
       " '__le__',\n",
       " '__lt__',\n",
       " '__mod__',\n",
       " '__mul__',\n",
       " '__ne__',\n",
       " '__neg__',\n",
       " '__new__',\n",
       " '__pos__',\n",
       " '__pow__',\n",
       " '__radd__',\n",
       " '__rdivmod__',\n",
       " '__reduce__',\n",
       " '__reduce_ex__',\n",
       " '__repr__',\n",
       " '__rfloordiv__',\n",
       " '__rmod__',\n",
       " '__rmul__',\n",
       " '__round__',\n",
       " '__rpow__',\n",
       " '__rsub__',\n",
       " '__rtruediv__',\n",
       " '__setattr__',\n",
       " '__sizeof__',\n",
       " '__str__',\n",
       " '__sub__',\n",
       " '__subclasshook__',\n",
       " '__truediv__',\n",
       " '__trunc__',\n",
       " 'as_integer_ratio',\n",
       " 'conjugate',\n",
       " 'fromhex',\n",
       " 'hex',\n",
       " 'imag',\n",
       " 'is_integer',\n",
       " 'real']"
      ]
     },
     "execution_count": 5,
     "metadata": {},
     "output_type": "execute_result"
    }
   ],
   "source": [
    "dir(height)"
   ]
  },
  {
   "cell_type": "code",
   "execution_count": 6,
   "id": "9b26b1e6-9e9c-44b9-9595-51861b159d3a",
   "metadata": {
    "panel-layout": {
     "height": 0,
     "visible": true,
     "width": 100
    }
   },
   "outputs": [
    {
     "name": "stdout",
     "output_type": "stream",
     "text": [
      "The absolute value of height: 162.12\n",
      "height ^ 3: 4260982.840128\n",
      "0.0\n"
     ]
    }
   ],
   "source": [
    "print(f\"The absolute value of height: {height.__abs__()}\")\n",
    "print(f\"height ^ 3: {height.__pow__(3)}\")\n",
    "print(height.imag)"
   ]
  },
  {
   "cell_type": "markdown",
   "id": "c9763f68-ee7f-413a-a6c3-f60881f4db99",
   "metadata": {
    "panel-layout": {
     "height": 101.531,
     "visible": true,
     "width": 100
    }
   },
   "source": [
    "## Part B: Defining a Person Class\n",
    "Let's start by creating a simple blueprint for a person. This blueprint is called a class, and the actual people we create based on this blueprint are objects or instances.\n",
    "\n",
    "<div class=\"alert alert-info\"> \n",
    "<b>NOTE:</b> The class keyword is used to define a new class. The __init__ method is a special constructor that gets called when you create a new object. self refers to the instance of the class being created.\n",
    "</div>"
   ]
  },
  {
   "cell_type": "code",
   "execution_count": null,
   "id": "7b031806-d008-42a0-813a-4641bdf0acb8",
   "metadata": {
    "panel-layout": {
     "height": 0,
     "visible": true,
     "width": 100
    }
   },
   "outputs": [],
   "source": [
    "class Person:\n",
    "    def __init__(self, name, age):\n",
    "        self.name = name\n",
    "        self.age = age\n",
    "\n",
    "    def greet(self):\n",
    "        print(f\"Hello, my name is {self.name} and I am {self.age} years old.\")\n",
    "\n",
    "# Creating instances (objects) of the Person class\n",
    "person1 = Person(\"Alice\", 30)\n",
    "person2 = Person(\"Bob\", 25)\n",
    "\n",
    "# Calling a method on an object\n",
    "person1.greet()\n",
    "person2.greet()"
   ]
  },
  {
   "cell_type": "markdown",
   "id": "d5f46302-12ab-4be6-b534-02ad205b0fac",
   "metadata": {
    "panel-layout": {
     "height": 159.812,
     "visible": true,
     "width": 100
    }
   },
   "source": [
    "Comparison: Here, name and age are attributes of the Person class (like variables belonging to the person), and greet() is a method (like a function associated with the person).\n",
    "\n",
    "## Part C: Demonstrating Abstraction and Encapsulation\n",
    "\n",
    "<div class=\"alert alert-info\"> \n",
    "<b>Note on Abstraction:</b> When we use person1.greet(), we don't need to know the internal details of how the greeting message is constructed and printed. We just call the greet() method, and it works.\n",
    "\n",
    "<b>Note on Encapsulation:</b> Let's make the age a bit more protected. By convention, a leading underscore _ suggests an attribute should not be directly accessed from outside the class. To access or modify it, we can use specific methods (getters and setters).\n",
    "</div>"
   ]
  },
  {
   "cell_type": "code",
   "execution_count": null,
   "id": "95abfbbe-6cdc-41b0-8bf1-8f62fa645bd1",
   "metadata": {},
   "outputs": [],
   "source": [
    "class Person:\n",
    "    def __init__(self, name, age):\n",
    "        self.name = name\n",
    "        self._age = age # Convention for a protected attribute\n",
    "\n",
    "    def greet(self):\n",
    "        print(f\"Hello, my name is {self.name} and I am {self._age} years old.\")\n",
    "\n",
    "person = Person(\"Charlie\", 40)\n",
    "print(f\"Age: {person._age}\")\n",
    "\n",
    "person._age = -10\n",
    "# While possible in Python, the underscore warns against direct access\n",
    "# If an attribute was to be made indeed private, double underscores would be used, i.e. self.__age.\n",
    "# Making a variable private makes it a little more difficult to access, but it doesn't make it inaccessible."
   ]
  },
  {
   "cell_type": "code",
   "execution_count": null,
   "id": "172433f8-1a90-4ca0-86c7-6a13b27077f0",
   "metadata": {},
   "outputs": [],
   "source": [
    "class Person:\n",
    "    \"\"\" a blueprint for a person class\"\"\"\n",
    "    def __init__(self, name, age):\n",
    "        self.name = name\n",
    "        self._age = age # Convention for a protected attribute\n",
    "\n",
    "    def greet(self):\n",
    "        print(f\"Hello, my name is {self.name} and I am {self._age} years old.\")\n",
    "\n",
    "    def get_age(self):\n",
    "        return self._age\n",
    "\n",
    "    def set_age(self, new_age):\n",
    "        \"\"\" setter method for age variable, takes an int \"\"\"\n",
    "        if 0 <= new_age < 150:\n",
    "            self._age = new_age\n",
    "        else:\n",
    "            print(\"Invalid age.\")\n",
    "\n",
    "person = Person(\"Charlie\", 40)\n",
    "print(f\"Age: {person.get_age()}\")\n",
    "person.set_age(41)\n",
    "print(f\"New Age: {person.get_age()}\")\n",
    "# person._age = -10 # While possible in Python, the underscore warns against direct access"
   ]
  },
  {
   "cell_type": "markdown",
   "id": "a03d943b-c2c3-40fc-bb95-f9af0d70dd56",
   "metadata": {
    "panel-layout": {
     "height": 118.672,
     "visible": true,
     "width": 100
    }
   },
   "source": [
    "Here, _age is still accessible directly, but the get_age() and set_age() methods provide controlled access, demonstrating a basic form of encapsulation.\n",
    "\n",
    "## Part C: Demonstrating Inheritance\n",
    "<div class='alert alert-info'>\n",
    "<b>Note on Inheritance:</b> Let's model a hospital scenario. Patients, doctors, and nurses are all types of people but with specific characteristics. We can create separate classes that inherit common properties from the Person class.\n",
    "</div>"
   ]
  },
  {
   "cell_type": "code",
   "execution_count": null,
   "id": "8fd37bff-6fd0-459c-9402-caafadf81d9a",
   "metadata": {
    "panel-layout": {
     "height": 0,
     "visible": true,
     "width": 100
    }
   },
   "outputs": [],
   "source": [
    "class Person:\n",
    "    def __init__(self, name, age):\n",
    "        self.name = name\n",
    "        self.age = age\n",
    "\n",
    "    def greet(self):\n",
    "        print(f\"Hello, I am {self.name}.\")\n",
    "\n",
    "class Patient(Person):\n",
    "    def __init__(self, name, age, patient_id):\n",
    "        super().__init__(name, age) # Call the __init__ of the parent class\n",
    "        self.patient_id = patient_id\n",
    "        self.medical_history = []\n",
    "\n",
    "    def add_history(self, record):\n",
    "        self.medical_history.append(record)\n",
    "\n",
    "    def get_details(self):\n",
    "        return f\"Patient Name: {self.name}, ID: {self.patient_id}, Age: {self.age}\"\n",
    "\n",
    "class Doctor(Person):\n",
    "    def __init__(self, name, age, specialization):\n",
    "        super().__init__(name, age)\n",
    "        self.specialization = specialization\n",
    "        self.patients = []\n",
    "\n",
    "    def assign_patient(self, patient):\n",
    "        self.patients.append(patient)\n",
    "\n",
    "    def get_details(self):\n",
    "        return f\"Doctor Name: {self.name}, Specialization: {self.specialization}, Age: {self.age}\"\n",
    "\n",
    "# Creating instances of the child classes\n",
    "patient1 = Patient(\"David\", 65, \"P1001\")\n",
    "doctor1 = Doctor(\"Dr. Aisha\", 38, \"Cardiologist\")\n",
    "\n",
    "# They inherit the greet method from Person\n",
    "patient1.greet()\n",
    "doctor1.greet()\n",
    "\n",
    "# They also have their own specific methods and attributes\n",
    "print(patient1.get_details())\n",
    "print(doctor1.get_details())"
   ]
  },
  {
   "cell_type": "markdown",
   "id": "26233c3e-0f93-4ad3-a1fe-7554dcaa3828",
   "metadata": {
    "panel-layout": {
     "height": 101.531,
     "visible": true,
     "width": 100
    }
   },
   "source": [
    "Notice how Patient and Doctor automatically have name and age from the Person class due to super().__init__().\n",
    "\n",
    "## Part D: Demonstrating Polymorphism\n",
    "<div class='alert alert-info'>\n",
    "<b>Note on Polymorphism:</b> The get_details() method behaves differently in the Patient and Doctor classes. This is polymorphism in action – the same method name does different things based on the object's type.\n",
    "</div>"
   ]
  },
  {
   "cell_type": "code",
   "execution_count": null,
   "id": "30360270-6508-4e30-b71f-9332fa37e36a",
   "metadata": {
    "panel-layout": {
     "height": 0,
     "visible": true,
     "width": 100
    }
   },
   "outputs": [],
   "source": [
    "class Person:\n",
    "    def __init__(self, name, age):\n",
    "        self.name = name\n",
    "        self.age = age\n",
    "\n",
    "    def get_details(self):\n",
    "        return f\"Name: {self.name}, Age: {self.age}\"\n",
    "\n",
    "class Patient(Person):\n",
    "    def __init__(self, name, age, patient_id):\n",
    "        super().__init__(name, age)\n",
    "        self.patient_id = patient_id\n",
    "\n",
    "    def get_details(self):\n",
    "        return f\"Patient - Name: {self.name}, ID: {self.patient_id}\"\n",
    "\n",
    "class Doctor(Person):\n",
    "    def __init__(self, name, age, specialization):\n",
    "        super().__init__(name, age)\n",
    "        self.specialization = specialization\n",
    "\n",
    "    def get_details(self):\n",
    "        return f\"Doctor - Name: {self.name}, Specialization: {self.specialization}\"\n",
    "\n",
    "def print_person_details(person):\n",
    "    print(person.get_details())\n",
    "\n",
    "person_obj = Person(\"Eve\", 28)\n",
    "patient_obj = Patient(\"Fiona\", 52, \"P1002\")\n",
    "doctor_obj = Doctor(\"Dr. Kwame\", 48, \"Pediatrics\")\n",
    "\n",
    "print_person_details(person_obj)\n",
    "print_person_details(patient_obj)\n",
    "print_person_details(doctor_obj)\n"
   ]
  },
  {
   "cell_type": "code",
   "execution_count": null,
   "id": "137deac6-5bec-41c0-9fa4-4330e103d092",
   "metadata": {},
   "outputs": [],
   "source": [
    "type(patient_obj)"
   ]
  },
  {
   "cell_type": "markdown",
   "id": "53fcde2d-92f1-4734-ab1c-f941ced32126",
   "metadata": {
    "panel-layout": {
     "height": 444.031,
     "visible": true,
     "width": 100
    }
   },
   "source": [
    "The print_person_details function can take either a Person, Patient, or Doctor object, and when get_details() is called, the appropriate version for that object's class is executed.\n",
    "\n",
    "There's a better way to get the patients' details. What if we could just say: print(person_obj)?\n",
    "\n",
    "### Operator Overloading\n",
    "\n",
    "* We can do this by overloading the __str__ operator.\n",
    "* To overload operators within our class, we use the special methods below:\n",
    "\n",
    "<br>\n",
    "\n",
    "|Name &nbsp; &nbsp; &nbsp; &nbsp; &nbsp; | Symbol| Special Function |\n",
    "| --- | --- | --- |\n",
    "| Addition | `+` | `__add__(self, other)` |\n",
    "| Subtraction | `-` | `__sub__(self, other)` |\n",
    "| Division | `/` | `__truediv__(self, other)` |\n",
    "| Floor division | `//` | `__floordiv__(self, other)` |\n",
    "| Modulus | `%` | `__mod__(self, other)` |\n",
    "| Power | `**` | `__pow__(self, other)` |\n",
    "\n",
    "We could even define what we want to happen if we added two persons together if we wanted to.\n",
    "\n",
    "This is the default behaviour:\n"
   ]
  },
  {
   "cell_type": "code",
   "execution_count": null,
   "id": "4078bb64-2eb3-4827-b9bd-b73313c12212",
   "metadata": {},
   "outputs": [],
   "source": [
    "print(person1)"
   ]
  },
  {
   "cell_type": "code",
   "execution_count": null,
   "id": "7804b003-034a-4678-a056-dde25d99b017",
   "metadata": {
    "panel-layout": {
     "height": 0,
     "visible": true,
     "width": 100
    }
   },
   "outputs": [],
   "source": [
    "# We can access the desired string representation by using the __str__() method\n",
    "print(person_obj.__str__())\n",
    "\n",
    "# or by calling the print function on the object in question\n",
    "print(person_obj)"
   ]
  },
  {
   "cell_type": "markdown",
   "id": "4e425b62-d58b-478f-88cd-3282272d0a6d",
   "metadata": {
    "panel-layout": {
     "height": 51.1406,
     "visible": true,
     "width": 100
    }
   },
   "source": [
    "We can now overload that __str__ operator, thus:"
   ]
  },
  {
   "cell_type": "code",
   "execution_count": null,
   "id": "2f3748a7-56dc-4e82-acc3-1c2ab86d5c89",
   "metadata": {
    "panel-layout": {
     "height": 0,
     "visible": true,
     "width": 100
    }
   },
   "outputs": [],
   "source": [
    "class Person:\n",
    "    def __init__(self, name, age):\n",
    "        self.name = name\n",
    "        self.age = age\n",
    "\n",
    "    def __str__(self):\n",
    "        return f\"Name: {self.name}, Age: {self.age}\"\n",
    "\n",
    "class Patient(Person):\n",
    "    def __init__(self, name, age, patient_id):\n",
    "        super().__init__(name, age)\n",
    "        self.patient_id = patient_id\n",
    "\n",
    "    def __str__(self):\n",
    "        return f\"Patient - Name: {self.name}, ID: {self.patient_id}\"\n",
    "\n",
    "class Doctor(Person):\n",
    "    def __init__(self, name, age, specialization):\n",
    "        super().__init__(name, age)\n",
    "        self.specialization = specialization\n",
    "\n",
    "    def __str__(self):\n",
    "        return f\"Doctor - Name: {self.name}, Specialization: {self.specialization}\"\n",
    "\n",
    "person_obj = Person(\"Eve\", 28)\n",
    "patient_obj = Patient(\"Fiona\", 52, \"P1002\")\n",
    "doctor_obj = Doctor(\"Dr. Kwame\", 48, \"Pediatrics\")\n",
    "\n",
    "print(person_obj)\n",
    "print(patient_obj)\n",
    "print(doctor_obj)\n"
   ]
  },
  {
   "cell_type": "markdown",
   "id": "c9f3bbb9-3431-46be-9c65-dff7f46391a5",
   "metadata": {
    "panel-layout": {
     "height": 114.562,
     "visible": true,
     "width": 100
    }
   },
   "source": [
    "<a id='final-demo'></a>\n",
    "# 4. Final Demo: A Hospital Management System Data Structure\n",
    "Let's model a basic data structure for a hospital using these OOP concepts.\n",
    "Note: Here, the Hospital class acts as a container to manage Patient and Doctor objects. We use dictionaries to store these objects, allowing for easy retrieval using unique identifiers."
   ]
  },
  {
   "cell_type": "code",
   "execution_count": null,
   "id": "c600936c-e2b7-4e8d-b03c-bb5ba79a8775",
   "metadata": {
    "panel-layout": {
     "height": 1696.3,
     "visible": true,
     "width": 100
    }
   },
   "outputs": [],
   "source": [
    "class Person:\n",
    "    def __init__(self, name, age):\n",
    "        self.name = name\n",
    "        self.age = age\n",
    "\n",
    "    def __str__(self):\n",
    "        return f\"Name: {self.name}, Age: {self.age}\"\n",
    "\n",
    "class Patient(Person):\n",
    "    def __init__(self, name, age, patient_id):\n",
    "        super().__init__(name, age)\n",
    "        self.patient_id = patient_id\n",
    "\n",
    "    def __str__(self):\n",
    "        return f\"Patient: {self.name}, ID: {self.patient_id}\"\n",
    "\n",
    "class Doctor(Person):\n",
    "    def __init__(self, name, age, specialization):\n",
    "        super().__init__(name, age)\n",
    "        self.specialization = specialization\n",
    "\n",
    "    def __str__(self):\n",
    "        return f\"Doctor: {self.name}, Specialization: {self.specialization}\"\n",
    "\n",
    "class Hospital:\n",
    "    def __init__(self, name):\n",
    "        self.name = name\n",
    "        self.patients = {} # Dictionary to store patients with patient_id as key\n",
    "        self.doctors = {}   # Dictionary to store doctors with specialization as key (can be improved)\n",
    "\n",
    "    def admit_patient(self, patient):\n",
    "        self.patients.update({patient.patient_id: patient})\n",
    "        print(f\"Patient {patient.name} admitted to {self.name}.\")\n",
    "\n",
    "    def add_doctor(self, doctor):\n",
    "        self.doctors.update({doctor.specialization: doctor})\n",
    "        print(f\"Dr. {doctor.name} added to {self.name}'s staff.\")\n",
    "\n",
    "    def get_patient(self, patient_id):\n",
    "        return self.patients.get(patient_id)\n",
    "\n",
    "    def get_doctor(self, specialization):\n",
    "        return self.doctors.get(specialization)\n",
    "\n",
    "    def list_all_patients(self):\n",
    "        print(\"\\n--- Patients ---\")\n",
    "        for patient in self.patients.values():\n",
    "            print(patient)\n",
    "        print(\"----------------\")\n",
    "\n",
    "    def list_all_doctors(self):\n",
    "        print(\"\\n--- Doctors ---\")\n",
    "        for doctor in self.doctors.values():\n",
    "            print(doctor)\n",
    "        print(\"----------------\")\n",
    "\n",
    "# Creating a hospital\n",
    "lagos_hospital = Hospital(\"Lagos General Hospital\")\n",
    "\n",
    "# Creating patients and doctors\n",
    "patient_a = Patient(\"Grace\", 42, \"LGHP001\")\n",
    "doctor_b = Doctor(\"Dr. Chinedu\", 55, \"Surgeon\")\n",
    "patient_c = Patient(\"Tunde\", 29, \"LGHP002\")\n",
    "doctor_d = Doctor(\"Dr. Fatima\", 33, \"Pediatrician\")\n",
    "\n",
    "# Adding them to the hospital\n",
    "lagos_hospital.admit_patient(patient_a)\n",
    "lagos_hospital.add_doctor(doctor_b)\n",
    "lagos_hospital.admit_patient(patient_c)\n",
    "lagos_hospital.add_doctor(doctor_d)\n",
    "\n",
    "# Retrieving information\n",
    "print(f\"\\nRetrieving patient with ID LGHP001: {lagos_hospital.get_patient('LGHP001')}\")\n",
    "print(f\"Retrieving Surgeon: {lagos_hospital.get_doctor('Surgeon')}\")\n",
    "\n",
    "# Listing all\n",
    "lagos_hospital.list_all_patients()\n",
    "lagos_hospital.list_all_doctors()"
   ]
  },
  {
   "cell_type": "markdown",
   "id": "4e883d78-7521-41e8-960e-1a62830cf37d",
   "metadata": {
    "panel-layout": {
     "height": 51.1406,
     "visible": true,
     "width": 100
    }
   },
   "source": [
    "This structure demonstrates how OOP helps in organizing complex data and operations in a modular and reusable way, forming the basis for more elaborate systems."
   ]
  },
  {
   "cell_type": "markdown",
   "id": "75415f53-0360-4108-b71b-9dc142c14a80",
   "metadata": {
    "panel-layout": {
     "height": 64.4375,
     "visible": true,
     "width": 100
    }
   },
   "source": [
    "<a id='extras'></a>\n",
    "# Extras\n",
    "\n",
    "- Suggest one functionality to add\n",
    "- Docstrings and Comments\n",
    "- Modularization and Packaging for large production-grade projects."
   ]
  },
  {
   "cell_type": "markdown",
   "id": "c78e584e-7283-4c69-8b66-150ef4578053",
   "metadata": {
    "panel-layout": {
     "height": 64.4375,
     "visible": true,
     "width": 100
    }
   },
   "source": [
    "<a id='q-a'></a>\n",
    "# Questions and Answers\n",
    "\n",
    "<div style=\"background-color: #f0f8ff; border-radius: 10px; padding: 20px; text-align: center; max-width: 500px; margin: 0 auto;\">\n",
    "    <h1 style=\"color: #0077b5; font-weight: bold; font-size: 45px\">Ebenezer Maradesa</h1>\n",
    "    <i margin-top: 1>Data Scientist | Software Engineer</i>\n",
    "    <ul style=\"list-style-type: none; padding: 0;\">\n",
    "        <li style=\"margin: 10px 0;\">\n",
    "            <a href=\"https://linkedin.com/in/ebenezer-maradesa\" style=\"text-decoration: none; color: #333; display: flex; align-items: center; justify-content: center;\">\n",
    "                <img src=\"https://img.icons8.com/ios-filled/24/0077b5/linkedin.png\" alt=\"LinkedIn Icon\" style=\"width: 24px; height: 24px; margin-right: 10px;\">\n",
    "                LinkedIn - EBENEZER MARADESA\n",
    "            </a>\n",
    "        </li>\n",
    "        <li style=\"margin: 10px 0;\">\n",
    "            <a href=\"https://x.com/maradeben\" style=\"text-decoration: none; color: #333; display: flex; align-items: center; justify-content: center;\">\n",
    "                <img src=\"https://img.icons8.com/ios-filled/24/000000/twitterx.png\" alt=\"X Icon\" style=\"width: 24px; height: 24px; margin-right: 10px;\">\n",
    "                X - @maradeben\n",
    "            </a>\n",
    "        </li>\n",
    "    </ul>\n",
    "    <p style=\"color: #888; font-style: italic; margin-top: 20px;\">(c) 2025</p>\n",
    "</div>"
   ]
  }
 ],
 "metadata": {
  "kernelspec": {
   "display_name": "Python 3 (ipykernel)",
   "language": "python",
   "name": "python3"
  },
  "language_info": {
   "codemirror_mode": {
    "name": "ipython",
    "version": 3
   },
   "file_extension": ".py",
   "mimetype": "text/x-python",
   "name": "python",
   "nbconvert_exporter": "python",
   "pygments_lexer": "ipython3",
   "version": "3.13.5"
  },
  "panel-cell-order": [
   "33ecbefa-a2c0-484a-9f8a-6bc1568fcc56",
   "4320332a-8c90-45b9-a340-811a954e7272",
   "9b6d807d-ed6d-427e-b45e-bbfcf7606e59",
   "2f5be60e-5fec-4d4c-b772-e648aae42ef2",
   "c9763f68-ee7f-413a-a6c3-f60881f4db99",
   "7b031806-d008-42a0-813a-4641bdf0acb8",
   "f0dd77ea-6ee6-4162-947a-738f8f8e6c60",
   "818eceb4-d054-42bc-a70b-d934624a07f8",
   "5d109ce8-9cd8-4908-ab0e-2452f4e739c2",
   "7019f0f7-554f-4105-baf5-90ce8c84a4f8",
   "9b26b1e6-9e9c-44b9-9595-51861b159d3a",
   "d5f46302-12ab-4be6-b534-02ad205b0fac",
   "a03d943b-c2c3-40fc-bb95-f9af0d70dd56",
   "8fd37bff-6fd0-459c-9402-caafadf81d9a",
   "26233c3e-0f93-4ad3-a1fe-7554dcaa3828",
   "30360270-6508-4e30-b71f-9332fa37e36a",
   "53fcde2d-92f1-4734-ab1c-f941ced32126",
   "7804b003-034a-4678-a056-dde25d99b017",
   "4e425b62-d58b-478f-88cd-3282272d0a6d",
   "2f3748a7-56dc-4e82-acc3-1c2ab86d5c89",
   "c9f3bbb9-3431-46be-9c65-dff7f46391a5",
   "c600936c-e2b7-4e8d-b03c-bb5ba79a8775",
   "4e883d78-7521-41e8-960e-1a62830cf37d",
   "75415f53-0360-4108-b71b-9dc142c14a80",
   "c78e584e-7283-4c69-8b66-150ef4578053"
  ]
 },
 "nbformat": 4,
 "nbformat_minor": 5
}
